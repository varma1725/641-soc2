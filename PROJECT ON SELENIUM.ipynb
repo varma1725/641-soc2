{
 "cells": [
  {
   "cell_type": "code",
   "execution_count": null,
   "id": "08df2b5d",
   "metadata": {},
   "outputs": [],
   "source": [
    "#PROJECT ON SELENIUM "
   ]
  },
  {
   "cell_type": "code",
   "execution_count": null,
   "id": "c68aa7bf",
   "metadata": {},
   "outputs": [],
   "source": [
    "#ACCESS PRICES OF MOBILE FROM TWO WEBSITES AND COMPARE IT"
   ]
  },
  {
   "cell_type": "code",
   "execution_count": 107,
   "id": "dcaa25a1",
   "metadata": {},
   "outputs": [],
   "source": [
    "from selenium import webdriver\n",
    "from selenium.webdriver.chrome.service import Service\n",
    "from selenium.webdriver.common.by import By\n",
    "s = Service(r\"C:\\Users\\prasa\\Desktop\\new\\chromedriver-win64\\chromedriver.exe\")\n",
    "webD = webdriver.Chrome(service=s)\n",
    "webD.get(\"https://www.amazon.in/Samsung-Galaxy-Smartphone-Titanium-Storage/dp/B0CQYGF1QY/ref=sr_1_1_sspa?dib=eyJ2IjoiMSJ9.Cvb5oQzTTBkyPpPhqlOvz7EOkchHQvkaDbo4APYoTqkyCkDMU0P0AGISBFc0w5QMLvahQc-e4W1EpHPQKrJKT0tnC9eKDwaIKs1yhz1h2QxFeCc7nsqdW_AXyDl6IfEsEaYNCiZMIZGUcZwg69dQmtK51d1ey6bB_1o9O03mfTo0kjyYaSiQT9W1I6d-HqJ0Ep1FfSunwYGWTtKbkF6l6WZR81yNXsJgStRW5EYuiV-p0TlKINP8URLKYjS2D9v1qduBlWWEKcIrrEqTnt5HAooc8vB14NbkFpj_bqvXESU.v7TOLXxZ5L8j24iavxyH9Lr4vZ19xm1r44KhvJ4i9K4&dib_tag=se&keywords=samsung%2Bfold&qid=1708522603&s=electronics&sr=1-1-spons&sp_csd=d2lkZ2V0TmFtZT1zcF9hdGY&th=1\")"
   ]
  },
  {
   "cell_type": "code",
   "execution_count": 105,
   "id": "9226eaf3",
   "metadata": {},
   "outputs": [],
   "source": [
    "ele=webD.find_element(By.CLASS_NAME,'a-price-whole')"
   ]
  },
  {
   "cell_type": "code",
   "execution_count": 106,
   "id": "fc271558",
   "metadata": {},
   "outputs": [
    {
     "name": "stdout",
     "output_type": "stream",
     "text": [
      "\n"
     ]
    }
   ],
   "source": [
    "print(ele.text)"
   ]
  },
  {
   "cell_type": "code",
   "execution_count": 67,
   "id": "ffecad3e",
   "metadata": {},
   "outputs": [],
   "source": [
    "l='/html/body/div[1]/div/div[5]/div[3]/div[4]/div[13]/div/div/div[4]/div[1]/span[2]/span[2]/span[2]'\n",
    "s=webD.find_element(By.XPATH,l)"
   ]
  },
  {
   "cell_type": "code",
   "execution_count": 68,
   "id": "3c3ed767",
   "metadata": {},
   "outputs": [
    {
     "name": "stdout",
     "output_type": "stream",
     "text": [
      "1,34,999\n"
     ]
    }
   ],
   "source": [
    "x=s.text\n",
    "print(x)\n"
   ]
  },
  {
   "cell_type": "code",
   "execution_count": 51,
   "id": "a2e27054",
   "metadata": {},
   "outputs": [],
   "source": [
    "\n",
    "from selenium import webdriver\n",
    "from selenium.webdriver.chrome.service import Service\n",
    "from selenium.webdriver.common.by import By\n",
    "s = Service(r\"C:\\Users\\prasa\\Desktop\\new\\chromedriver-win64\\chromedriver.exe\")\n",
    "webD = webdriver.Chrome(service=s)\n",
    "webD.get(\"https://www.flipkart.com/samsung-galaxy-z-fold5-cream-256-gb/p/itm5e9a1e2b0b9d9?pid=MOBGRS32ZCAVYQ7V&lid=LSTMOBGRS32ZCAVYQ7VEMYE2L&marketplace=FLIPKART&q=samsung%20fold&sattr[]=color&sattr[]=storage&st=color&otracker=search\")"
   ]
  },
  {
   "cell_type": "code",
   "execution_count": 52,
   "id": "b004793c",
   "metadata": {},
   "outputs": [],
   "source": [
    "z='/html/body/div[1]/div/div[3]/div[1]/div[2]/div[2]/div/div[4]/div[1]/div/div[1]'\n",
    "p=webD.find_element(By.XPATH,z)"
   ]
  },
  {
   "cell_type": "code",
   "execution_count": 61,
   "id": "5812c8a2",
   "metadata": {},
   "outputs": [
    {
     "name": "stdout",
     "output_type": "stream",
     "text": [
      "₹1,54,999\n"
     ]
    }
   ],
   "source": [
    "y=(p.text)\n",
    "print(y)"
   ]
  },
  {
   "cell_type": "code",
   "execution_count": 101,
   "id": "cd3cdd76",
   "metadata": {},
   "outputs": [
    {
     "name": "stdout",
     "output_type": "stream",
     "text": [
      "price in flipkart is more than price in amazon\n"
     ]
    }
   ],
   "source": [
    "if(x>y):\n",
    "    print('price in amazon is more than price in flipkart')\n",
    "else:\n",
    "    print('price in flipkart is more than price in amazon')"
   ]
  },
  {
   "cell_type": "code",
   "execution_count": null,
   "id": "68efc43f",
   "metadata": {},
   "outputs": [],
   "source": []
  }
 ],
 "metadata": {
  "kernelspec": {
   "display_name": "Python 3 (ipykernel)",
   "language": "python",
   "name": "python3"
  },
  "language_info": {
   "codemirror_mode": {
    "name": "ipython",
    "version": 3
   },
   "file_extension": ".py",
   "mimetype": "text/x-python",
   "name": "python",
   "nbconvert_exporter": "python",
   "pygments_lexer": "ipython3",
   "version": "3.10.9"
  }
 },
 "nbformat": 4,
 "nbformat_minor": 5
}
