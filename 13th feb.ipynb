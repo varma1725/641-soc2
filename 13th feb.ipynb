{
 "cells": [
  {
   "cell_type": "code",
   "execution_count": 1,
   "id": "7e027e89",
   "metadata": {},
   "outputs": [
    {
     "data": {
      "text/plain": [
       "array([0, 1, 2, 3, 4])"
      ]
     },
     "execution_count": 1,
     "metadata": {},
     "output_type": "execute_result"
    }
   ],
   "source": [
    "#To print range of values\n",
    "import numpy as np\n",
    "ar=np.arange(0,5)\n",
    "ar"
   ]
  },
  {
   "cell_type": "code",
   "execution_count": 2,
   "id": "594ebe91",
   "metadata": {},
   "outputs": [
    {
     "data": {
      "text/plain": [
       "array([0, 2, 4])"
      ]
     },
     "execution_count": 2,
     "metadata": {},
     "output_type": "execute_result"
    }
   ],
   "source": [
    "#To print range of values with difference of 2\n",
    "import numpy as np\n",
    "ar=np.arange(0,5,2)\n",
    "ar"
   ]
  },
  {
   "cell_type": "code",
   "execution_count": 3,
   "id": "6ad3b2bc",
   "metadata": {},
   "outputs": [
    {
     "data": {
      "text/plain": [
       "array([0, 3, 6, 9])"
      ]
     },
     "execution_count": 3,
     "metadata": {},
     "output_type": "execute_result"
    }
   ],
   "source": [
    "#To print range of values with difference of 3\n",
    "import numpy as np\n",
    "ar=np.arange(0,10,3)\n",
    "ar"
   ]
  },
  {
   "cell_type": "code",
   "execution_count": 4,
   "id": "88ebd1c0",
   "metadata": {},
   "outputs": [
    {
     "data": {
      "text/plain": [
       "array([1, 2, 3, 4, 5, 6, 7, 8, 9])"
      ]
     },
     "execution_count": 4,
     "metadata": {},
     "output_type": "execute_result"
    }
   ],
   "source": [
    "#converting list into array\n",
    "l=[1,2,3,4,5,6,7,8,9]\n",
    "arr=np.array(l)\n",
    "arr"
   ]
  },
  {
   "cell_type": "code",
   "execution_count": 6,
   "id": "48f8303a",
   "metadata": {},
   "outputs": [
    {
     "data": {
      "text/plain": [
       "array([[1, 2, 3],\n",
       "       [4, 5, 6],\n",
       "       [7, 8, 9]])"
      ]
     },
     "execution_count": 6,
     "metadata": {},
     "output_type": "execute_result"
    }
   ],
   "source": [
    "#converting 1d array to 2d array\n",
    "n=arr.reshape(3,3)\n",
    "n"
   ]
  },
  {
   "cell_type": "code",
   "execution_count": 11,
   "id": "6b2b5d5a",
   "metadata": {},
   "outputs": [
    {
     "data": {
      "text/plain": [
       "array([[1, 0, 0],\n",
       "       [0, 1, 0],\n",
       "       [0, 0, 1]])"
      ]
     },
     "execution_count": 11,
     "metadata": {},
     "output_type": "execute_result"
    }
   ],
   "source": [
    "#creating identity matrix\n",
    "n1=np.identity(3, dtype=int)\n",
    "n1"
   ]
  },
  {
   "cell_type": "code",
   "execution_count": 12,
   "id": "6a41e329",
   "metadata": {},
   "outputs": [
    {
     "data": {
      "text/plain": [
       "array([[1., 0., 0., 0.],\n",
       "       [0., 1., 0., 0.],\n",
       "       [0., 0., 1., 0.],\n",
       "       [0., 0., 0., 1.]])"
      ]
     },
     "execution_count": 12,
     "metadata": {},
     "output_type": "execute_result"
    }
   ],
   "source": [
    "#craeting identity matrix\n",
    "n2=np.identity(4)\n",
    "n2"
   ]
  },
  {
   "cell_type": "code",
   "execution_count": 14,
   "id": "1f1c3abc",
   "metadata": {},
   "outputs": [
    {
     "data": {
      "text/plain": [
       "array([[ 1,  2,  3,  4,  5],\n",
       "       [ 6,  7,  8,  9, 10]])"
      ]
     },
     "execution_count": 14,
     "metadata": {},
     "output_type": "execute_result"
    }
   ],
   "source": [
    "#creating multidimensional array\n",
    "s1=[1,2,3,4,5]\n",
    "s2=[6,7,8,9,10]\n",
    "ar=np.array([s1,s2])\n",
    "ar"
   ]
  },
  {
   "cell_type": "code",
   "execution_count": 30,
   "id": "0e36a704",
   "metadata": {},
   "outputs": [
    {
     "data": {
      "text/plain": [
       "array([7, 8, 9])"
      ]
     },
     "execution_count": 30,
     "metadata": {},
     "output_type": "execute_result"
    }
   ],
   "source": [
    "#slicing in multidimensional array\n",
    "ar[1,1:4]\n"
   ]
  },
  {
   "cell_type": "code",
   "execution_count": 4,
   "id": "959279c4",
   "metadata": {},
   "outputs": [
    {
     "data": {
      "text/plain": [
       "array([ 1,  2,  3,  4,  5,  6,  7,  8,  9, 10, 11, 12, 13])"
      ]
     },
     "execution_count": 4,
     "metadata": {},
     "output_type": "execute_result"
    }
   ],
   "source": [
    "import numpy as np\n",
    "y=[1,2,3,4,5,6,7,8,9,10,11,12,13]\n",
    "x=np.array(y)\n",
    "x"
   ]
  },
  {
   "cell_type": "code",
   "execution_count": 5,
   "id": "b5462928",
   "metadata": {},
   "outputs": [
    {
     "data": {
      "text/plain": [
       "array([[ 1],\n",
       "       [ 2],\n",
       "       [ 3],\n",
       "       [ 4],\n",
       "       [ 5],\n",
       "       [ 6],\n",
       "       [ 7],\n",
       "       [ 8],\n",
       "       [ 9],\n",
       "       [10],\n",
       "       [11],\n",
       "       [12],\n",
       "       [13]])"
      ]
     },
     "execution_count": 5,
     "metadata": {},
     "output_type": "execute_result"
    }
   ],
   "source": [
    "x.reshape(13,1)"
   ]
  },
  {
   "cell_type": "code",
   "execution_count": 12,
   "id": "d35b1f24",
   "metadata": {},
   "outputs": [
    {
     "data": {
      "text/plain": [
       "7.0"
      ]
     },
     "execution_count": 12,
     "metadata": {},
     "output_type": "execute_result"
    }
   ],
   "source": [
    "#mean of an array\n",
    "np.mean(x)"
   ]
  },
  {
   "cell_type": "code",
   "execution_count": 6,
   "id": "3615c441",
   "metadata": {},
   "outputs": [
    {
     "data": {
      "text/plain": [
       "7.0"
      ]
     },
     "execution_count": 6,
     "metadata": {},
     "output_type": "execute_result"
    }
   ],
   "source": [
    "#median of an array\n",
    "m=np.median(x)\n",
    "m"
   ]
  },
  {
   "cell_type": "code",
   "execution_count": 14,
   "id": "b01bc89a",
   "metadata": {},
   "outputs": [
    {
     "data": {
      "text/plain": [
       "91"
      ]
     },
     "execution_count": 14,
     "metadata": {},
     "output_type": "execute_result"
    }
   ],
   "source": [
    "#sum of an array\n",
    "np.sum(x)"
   ]
  },
  {
   "cell_type": "code",
   "execution_count": 15,
   "id": "3bf45878",
   "metadata": {},
   "outputs": [
    {
     "data": {
      "text/plain": [
       "3.7416573867739413"
      ]
     },
     "execution_count": 15,
     "metadata": {},
     "output_type": "execute_result"
    }
   ],
   "source": [
    "#standard deviation of an array\n",
    "np.std(x)"
   ]
  },
  {
   "cell_type": "code",
   "execution_count": 9,
   "id": "a8339948",
   "metadata": {},
   "outputs": [
    {
     "data": {
      "text/plain": [
       "0.5384615384615384"
      ]
     },
     "execution_count": 9,
     "metadata": {},
     "output_type": "execute_result"
    }
   ],
   "source": [
    "#variance of an array\n",
    "#median by total no of elements\n",
    "l=len(x)\n",
    "v=m/l\n",
    "v"
   ]
  },
  {
   "cell_type": "code",
   "execution_count": 16,
   "id": "f10ccf46",
   "metadata": {},
   "outputs": [
    {
     "data": {
      "text/plain": [
       "array([ 1,  3,  5,  7, 10])"
      ]
     },
     "execution_count": 16,
     "metadata": {},
     "output_type": "execute_result"
    }
   ],
   "source": [
    "# #linspace\n",
    "# it is used print the evenly separated numbers b/w to range of values\n",
    "np.linspace(1,10,5,dtype=int)"
   ]
  },
  {
   "cell_type": "code",
   "execution_count": 15,
   "id": "73162477",
   "metadata": {},
   "outputs": [
    {
     "data": {
      "text/plain": [
       "array([ 2,  8, 14, 20])"
      ]
     },
     "execution_count": 15,
     "metadata": {},
     "output_type": "execute_result"
    }
   ],
   "source": [
    "np.linspace(2,20,4,dtype=int)"
   ]
  },
  {
   "cell_type": "code",
   "execution_count": 46,
   "id": "45107e13",
   "metadata": {},
   "outputs": [
    {
     "data": {
      "text/plain": [
       "array([35, 51])"
      ]
     },
     "execution_count": 46,
     "metadata": {},
     "output_type": "execute_result"
    }
   ],
   "source": [
    "# #random module\n",
    "# it print an random value\n",
    "#syntax= np.random.randint(start,end)\n",
    "np.random.randint(1,66,2)"
   ]
  },
  {
   "cell_type": "code",
   "execution_count": 55,
   "id": "2cb1f9f4",
   "metadata": {},
   "outputs": [
    {
     "data": {
      "text/plain": [
       "array([[0.48593169, 0.95855412, 0.33261631],\n",
       "       [0.43871016, 0.99533365, 0.43313155],\n",
       "       [0.43962736, 0.86083956, 0.57396025],\n",
       "       [0.05685508, 0.66568608, 0.36401429],\n",
       "       [0.48660674, 0.7847916 , 0.32418713]])"
      ]
     },
     "execution_count": 55,
     "metadata": {},
     "output_type": "execute_result"
    }
   ],
   "source": [
    "# rand()\n",
    "# it is used to generate values from particular range based on uniformly distributed\n",
    "np.random.rand(5,3)"
   ]
  },
  {
   "cell_type": "code",
   "execution_count": 56,
   "id": "32a6bd30",
   "metadata": {},
   "outputs": [
    {
     "data": {
      "text/plain": [
       "13"
      ]
     },
     "execution_count": 56,
     "metadata": {},
     "output_type": "execute_result"
    }
   ],
   "source": [
    "x.max()"
   ]
  },
  {
   "cell_type": "code",
   "execution_count": 57,
   "id": "af4104cd",
   "metadata": {},
   "outputs": [
    {
     "data": {
      "text/plain": [
       "1"
      ]
     },
     "execution_count": 57,
     "metadata": {},
     "output_type": "execute_result"
    }
   ],
   "source": [
    "x.min()"
   ]
  },
  {
   "cell_type": "code",
   "execution_count": 62,
   "id": "f1da5e01",
   "metadata": {},
   "outputs": [
    {
     "data": {
      "text/plain": [
       "2"
      ]
     },
     "execution_count": 62,
     "metadata": {},
     "output_type": "execute_result"
    }
   ],
   "source": [
    "ln=[23,45,67,78,43,56,47]\n",
    "w=ln.index(67)\n",
    "w"
   ]
  },
  {
   "cell_type": "code",
   "execution_count": 63,
   "id": "fe7ca887",
   "metadata": {},
   "outputs": [
    {
     "data": {
      "text/plain": [
       "array([23, 45, 67, 78, 43, 56, 47])"
      ]
     },
     "execution_count": 63,
     "metadata": {},
     "output_type": "execute_result"
    }
   ],
   "source": [
    "nr=np.array(ln)\n",
    "nr"
   ]
  },
  {
   "cell_type": "markdown",
   "id": "c6fed2bb",
   "metadata": {},
   "source": []
  },
  {
   "cell_type": "code",
   "execution_count": 67,
   "id": "b789e458",
   "metadata": {
    "scrolled": true
   },
   "outputs": [
    {
     "data": {
      "text/plain": [
       "3"
      ]
     },
     "execution_count": 67,
     "metadata": {},
     "output_type": "execute_result"
    }
   ],
   "source": [
    "#max in array\n",
    "max=nr.argmax()\n",
    "max"
   ]
  },
  {
   "cell_type": "code",
   "execution_count": 71,
   "id": "8a380fe9",
   "metadata": {},
   "outputs": [
    {
     "data": {
      "text/plain": [
       "0"
      ]
     },
     "execution_count": 71,
     "metadata": {},
     "output_type": "execute_result"
    }
   ],
   "source": [
    "min=nr.argmin()\n",
    "min"
   ]
  },
  {
   "cell_type": "code",
   "execution_count": 70,
   "id": "703f5bad",
   "metadata": {
    "scrolled": true
   },
   "outputs": [
    {
     "data": {
      "text/plain": [
       "(array([2], dtype=int64),)"
      ]
     },
     "execution_count": 70,
     "metadata": {},
     "output_type": "execute_result"
    }
   ],
   "source": [
    "i1=np.where(nr==67)\n",
    "i1"
   ]
  },
  {
   "cell_type": "code",
   "execution_count": 73,
   "id": "74ac8744",
   "metadata": {},
   "outputs": [
    {
     "data": {
      "text/plain": [
       "array([ 0.62966222,  0.61736962,  0.60521065, -1.66894757, -0.66738418,\n",
       "       -1.63592842, -8.03035035])"
      ]
     },
     "execution_count": 73,
     "metadata": {},
     "output_type": "execute_result"
    }
   ],
   "source": [
    "np.cos(nr)/np.sin(nr)"
   ]
  },
  {
   "cell_type": "markdown",
   "id": "96789773",
   "metadata": {},
   "source": [
    "# "
   ]
  },
  {
   "cell_type": "code",
   "execution_count": 100,
   "id": "8d5847ee",
   "metadata": {},
   "outputs": [
    {
     "data": {
      "text/plain": [
       "array([ 4, 10, 18,  7])"
      ]
     },
     "execution_count": 100,
     "metadata": {},
     "output_type": "execute_result"
    }
   ],
   "source": [
    "# multiplication of arrays\n",
    "a1=np.array([1,2,3,7])\n",
    "a2=np.array([4,5,6])\n",
    "l1=len(a1)\n",
    "l2=len(a2)\n",
    "l1,l2\n",
    "if l1>l2:\n",
    "    l=l1-l2\n",
    "    i=0\n",
    "    while(i<l):\n",
    "        a4=np.append(a2,1)\n",
    "        i=i+1\n",
    "    a3=(a1*a4)\n",
    "else:\n",
    "    l=l2-l1\n",
    "    i=0\n",
    "    while(i<l):\n",
    "        a4=np.append(a1,1)\n",
    "        i=i+1\n",
    "    a3=(a1*a4)\n",
    "a3"
   ]
  },
  {
   "cell_type": "code",
   "execution_count": 101,
   "id": "958a0224",
   "metadata": {},
   "outputs": [
    {
     "data": {
      "text/plain": [
       "39"
      ]
     },
     "execution_count": 101,
     "metadata": {},
     "output_type": "execute_result"
    }
   ],
   "source": [
    "np.sum(a3)"
   ]
  },
  {
   "cell_type": "code",
   "execution_count": 3,
   "id": "3317d3c3",
   "metadata": {},
   "outputs": [],
   "source": [
    "#pandas"
   ]
  },
  {
   "cell_type": "code",
   "execution_count": 4,
   "id": "2aa9ec00",
   "metadata": {},
   "outputs": [
    {
     "name": "stdout",
     "output_type": "stream",
     "text": [
      "Requirement already satisfied: pandas in c:\\users\\prasa\\contacts\\anaconda\\lib\\site-packages (1.5.3)\n",
      "Requirement already satisfied: python-dateutil>=2.8.1 in c:\\users\\prasa\\contacts\\anaconda\\lib\\site-packages (from pandas) (2.8.2)\n",
      "Requirement already satisfied: pytz>=2020.1 in c:\\users\\prasa\\contacts\\anaconda\\lib\\site-packages (from pandas) (2022.7)\n",
      "Requirement already satisfied: numpy>=1.21.0 in c:\\users\\prasa\\contacts\\anaconda\\lib\\site-packages (from pandas) (1.23.5)\n",
      "Requirement already satisfied: six>=1.5 in c:\\users\\prasa\\contacts\\anaconda\\lib\\site-packages (from python-dateutil>=2.8.1->pandas) (1.16.0)\n",
      "Note: you may need to restart the kernel to use updated packages.\n"
     ]
    },
    {
     "name": "stderr",
     "output_type": "stream",
     "text": [
      "\n",
      "[notice] A new release of pip is available: 23.1.2 -> 24.0\n",
      "[notice] To update, run: python.exe -m pip install --upgrade pip\n"
     ]
    }
   ],
   "source": [
    "pip install pandas"
   ]
  },
  {
   "cell_type": "code",
   "execution_count": 6,
   "id": "1f4a2718",
   "metadata": {},
   "outputs": [
    {
     "data": {
      "text/plain": [
       "0    10\n",
       "1    20\n",
       "2    30\n",
       "dtype: int64"
      ]
     },
     "execution_count": 6,
     "metadata": {},
     "output_type": "execute_result"
    }
   ],
   "source": [
    "#pandas\n",
    "import numpy as np\n",
    "import pandas as pd\n",
    "labels=['a','b','c']\n",
    "my_data=[10,20,30]\n",
    "arr=np.array(my_data)\n",
    "d={\"a\":100,\"b\":200,\"c\":300}\n",
    "pd.Series(my_data)"
   ]
  },
  {
   "cell_type": "code",
   "execution_count": 7,
   "id": "3f5c7ebe",
   "metadata": {},
   "outputs": [
    {
     "data": {
      "text/plain": [
       "pandas.core.series.Series"
      ]
     },
     "execution_count": 7,
     "metadata": {},
     "output_type": "execute_result"
    }
   ],
   "source": [
    "type(pd.Series(my_data))"
   ]
  },
  {
   "cell_type": "code",
   "execution_count": 8,
   "id": "1632bc4a",
   "metadata": {},
   "outputs": [
    {
     "data": {
      "text/plain": [
       "0    10\n",
       "1    20\n",
       "2    30\n",
       "dtype: int64"
      ]
     },
     "execution_count": 8,
     "metadata": {},
     "output_type": "execute_result"
    }
   ],
   "source": [
    "#series with data\n",
    "pd.Series(my_data)"
   ]
  },
  {
   "cell_type": "code",
   "execution_count": 9,
   "id": "e4a49c26",
   "metadata": {},
   "outputs": [
    {
     "data": {
      "text/plain": [
       "a    10\n",
       "b    20\n",
       "c    30\n",
       "dtype: int64"
      ]
     },
     "execution_count": 9,
     "metadata": {},
     "output_type": "execute_result"
    }
   ],
   "source": [
    "#series with labels\n",
    "pd.Series(data=my_data,index=labels)"
   ]
  },
  {
   "cell_type": "code",
   "execution_count": 16,
   "id": "2cf2106c",
   "metadata": {},
   "outputs": [
    {
     "data": {
      "text/plain": [
       "a    10.0\n",
       "b    20.0\n",
       "c    30.0\n",
       "Name: prasad, dtype: float64"
      ]
     },
     "execution_count": 16,
     "metadata": {},
     "output_type": "execute_result"
    }
   ],
   "source": [
    "pd.Series(data=my_data,index=labels,dtype=float,name='prasad')"
   ]
  },
  {
   "cell_type": "code",
   "execution_count": 20,
   "id": "bdb9d539",
   "metadata": {},
   "outputs": [
    {
     "data": {
      "text/plain": [
       "USA       1\n",
       "INDIA     2\n",
       "CANADA    3\n",
       "UK        4\n",
       "EGYPT     5\n",
       "dtype: int64"
      ]
     },
     "execution_count": 20,
     "metadata": {},
     "output_type": "execute_result"
    }
   ],
   "source": [
    "sr1=pd.Series([1,2,3,4,5],['USA','INDIA','CANADA','UK','EGYPT'])\n",
    "sr1"
   ]
  },
  {
   "cell_type": "code",
   "execution_count": 21,
   "id": "c2a5e5ab",
   "metadata": {},
   "outputs": [
    {
     "data": {
      "text/plain": [
       "USA       1\n",
       "INDIA     2\n",
       "CANADA    3\n",
       "dtype: int64"
      ]
     },
     "execution_count": 21,
     "metadata": {},
     "output_type": "execute_result"
    }
   ],
   "source": [
    "#access values using index\n",
    "sr1[0:3]"
   ]
  },
  {
   "cell_type": "code",
   "execution_count": 31,
   "id": "db462d19",
   "metadata": {},
   "outputs": [
    {
     "data": {
      "text/plain": [
       "AUS      NaN\n",
       "CANADA   NaN\n",
       "EGYPT    NaN\n",
       "INDIA    NaN\n",
       "NZ       NaN\n",
       "SA       NaN\n",
       "UK       NaN\n",
       "USA      NaN\n",
       "dtype: float64"
      ]
     },
     "execution_count": 31,
     "metadata": {},
     "output_type": "execute_result"
    }
   ],
   "source": [
    "sr2=pd.Series([6,7,8],['SA','AUS','NZ'])\n",
    "sr1+sr2"
   ]
  },
  {
   "cell_type": "code",
   "execution_count": null,
   "id": "4a694ad4",
   "metadata": {},
   "outputs": [],
   "source": []
  },
  {
   "cell_type": "code",
   "execution_count": 28,
   "id": "3cdd74b4",
   "metadata": {},
   "outputs": [
    {
     "data": {
      "text/plain": [
       "SA     6\n",
       "AUS    7\n",
       "NZ     8\n",
       "dtype: int64"
      ]
     },
     "execution_count": 28,
     "metadata": {},
     "output_type": "execute_result"
    }
   ],
   "source": [
    "sr2"
   ]
  },
  {
   "cell_type": "code",
   "execution_count": 26,
   "id": "d03290d1",
   "metadata": {},
   "outputs": [
    {
     "data": {
      "text/plain": [
       "SA       1\n",
       "AUS      2\n",
       "NZ       3\n",
       "china    4\n",
       "dtype: object"
      ]
     },
     "execution_count": 26,
     "metadata": {},
     "output_type": "execute_result"
    }
   ],
   "source": [
    "#to create new data in series\n",
    "sr2['china']=4\n",
    "sr2"
   ]
  },
  {
   "cell_type": "code",
   "execution_count": 33,
   "id": "04156c07",
   "metadata": {},
   "outputs": [
    {
     "data": {
      "text/html": [
       "<div>\n",
       "<style scoped>\n",
       "    .dataframe tbody tr th:only-of-type {\n",
       "        vertical-align: middle;\n",
       "    }\n",
       "\n",
       "    .dataframe tbody tr th {\n",
       "        vertical-align: top;\n",
       "    }\n",
       "\n",
       "    .dataframe thead th {\n",
       "        text-align: right;\n",
       "    }\n",
       "</style>\n",
       "<table border=\"1\" class=\"dataframe\">\n",
       "  <thead>\n",
       "    <tr style=\"text-align: right;\">\n",
       "      <th></th>\n",
       "      <th>0</th>\n",
       "      <th>1</th>\n",
       "      <th>2</th>\n",
       "      <th>3</th>\n",
       "    </tr>\n",
       "  </thead>\n",
       "  <tbody>\n",
       "    <tr>\n",
       "      <th>0</th>\n",
       "      <td>0.171584</td>\n",
       "      <td>0.350118</td>\n",
       "      <td>0.675212</td>\n",
       "      <td>0.833130</td>\n",
       "    </tr>\n",
       "    <tr>\n",
       "      <th>1</th>\n",
       "      <td>0.543784</td>\n",
       "      <td>0.143372</td>\n",
       "      <td>0.039494</td>\n",
       "      <td>0.316847</td>\n",
       "    </tr>\n",
       "    <tr>\n",
       "      <th>2</th>\n",
       "      <td>0.084771</td>\n",
       "      <td>0.718992</td>\n",
       "      <td>0.865746</td>\n",
       "      <td>0.747591</td>\n",
       "    </tr>\n",
       "    <tr>\n",
       "      <th>3</th>\n",
       "      <td>0.405454</td>\n",
       "      <td>0.278478</td>\n",
       "      <td>0.947636</td>\n",
       "      <td>0.027132</td>\n",
       "    </tr>\n",
       "    <tr>\n",
       "      <th>4</th>\n",
       "      <td>0.457723</td>\n",
       "      <td>0.432174</td>\n",
       "      <td>0.698115</td>\n",
       "      <td>0.043231</td>\n",
       "    </tr>\n",
       "  </tbody>\n",
       "</table>\n",
       "</div>"
      ],
      "text/plain": [
       "          0         1         2         3\n",
       "0  0.171584  0.350118  0.675212  0.833130\n",
       "1  0.543784  0.143372  0.039494  0.316847\n",
       "2  0.084771  0.718992  0.865746  0.747591\n",
       "3  0.405454  0.278478  0.947636  0.027132\n",
       "4  0.457723  0.432174  0.698115  0.043231"
      ]
     },
     "execution_count": 33,
     "metadata": {},
     "output_type": "execute_result"
    }
   ],
   "source": [
    "#Dataframe\n",
    "#pd.DataFrame(datas,row _label,col_label)\n",
    "df=pd.DataFrame(np.random.rand(5,4))\n",
    "df"
   ]
  },
  {
   "cell_type": "code",
   "execution_count": 50,
   "id": "9ed6a124",
   "metadata": {},
   "outputs": [
    {
     "data": {
      "text/html": [
       "<div>\n",
       "<style scoped>\n",
       "    .dataframe tbody tr th:only-of-type {\n",
       "        vertical-align: middle;\n",
       "    }\n",
       "\n",
       "    .dataframe tbody tr th {\n",
       "        vertical-align: top;\n",
       "    }\n",
       "\n",
       "    .dataframe thead th {\n",
       "        text-align: right;\n",
       "    }\n",
       "</style>\n",
       "<table border=\"1\" class=\"dataframe\">\n",
       "  <thead>\n",
       "    <tr style=\"text-align: right;\">\n",
       "      <th></th>\n",
       "      <th>w</th>\n",
       "      <th>x</th>\n",
       "      <th>y</th>\n",
       "      <th>z</th>\n",
       "    </tr>\n",
       "  </thead>\n",
       "  <tbody>\n",
       "    <tr>\n",
       "      <th>a</th>\n",
       "      <td>0.282681</td>\n",
       "      <td>0.203761</td>\n",
       "      <td>0.688190</td>\n",
       "      <td>0.066383</td>\n",
       "    </tr>\n",
       "    <tr>\n",
       "      <th>b</th>\n",
       "      <td>0.617469</td>\n",
       "      <td>0.708289</td>\n",
       "      <td>0.155903</td>\n",
       "      <td>0.032856</td>\n",
       "    </tr>\n",
       "    <tr>\n",
       "      <th>c</th>\n",
       "      <td>0.940931</td>\n",
       "      <td>0.230740</td>\n",
       "      <td>0.170918</td>\n",
       "      <td>0.104095</td>\n",
       "    </tr>\n",
       "    <tr>\n",
       "      <th>d</th>\n",
       "      <td>0.817212</td>\n",
       "      <td>0.309493</td>\n",
       "      <td>0.840549</td>\n",
       "      <td>0.982833</td>\n",
       "    </tr>\n",
       "    <tr>\n",
       "      <th>e</th>\n",
       "      <td>0.883493</td>\n",
       "      <td>0.508611</td>\n",
       "      <td>0.672262</td>\n",
       "      <td>0.694234</td>\n",
       "    </tr>\n",
       "  </tbody>\n",
       "</table>\n",
       "</div>"
      ],
      "text/plain": [
       "          w         x         y         z\n",
       "a  0.282681  0.203761  0.688190  0.066383\n",
       "b  0.617469  0.708289  0.155903  0.032856\n",
       "c  0.940931  0.230740  0.170918  0.104095\n",
       "d  0.817212  0.309493  0.840549  0.982833\n",
       "e  0.883493  0.508611  0.672262  0.694234"
      ]
     },
     "execution_count": 50,
     "metadata": {},
     "output_type": "execute_result"
    }
   ],
   "source": [
    "df=pd.DataFrame(np.random.rand(5,4),['a','b','c','d','e'],['w','x','y','z'])\n",
    "df"
   ]
  },
  {
   "cell_type": "code",
   "execution_count": 48,
   "id": "b2e764f8",
   "metadata": {},
   "outputs": [
    {
     "data": {
      "text/plain": [
       "{'name': ['prasad', 'rohith', 'varma'],\n",
       " 'rno': [42, 50, 41],\n",
       " 'branch': ['cst', 'cst', 'cst']}"
      ]
     },
     "execution_count": 48,
     "metadata": {},
     "output_type": "execute_result"
    }
   ],
   "source": [
    "d={'name':['prasad','rohith','varma'],'rno':[42,50,41],'branch':['cst','cst','cst']}\n",
    "d"
   ]
  },
  {
   "cell_type": "code",
   "execution_count": 49,
   "id": "d7c4c48c",
   "metadata": {},
   "outputs": [
    {
     "data": {
      "text/html": [
       "<div>\n",
       "<style scoped>\n",
       "    .dataframe tbody tr th:only-of-type {\n",
       "        vertical-align: middle;\n",
       "    }\n",
       "\n",
       "    .dataframe tbody tr th {\n",
       "        vertical-align: top;\n",
       "    }\n",
       "\n",
       "    .dataframe thead th {\n",
       "        text-align: right;\n",
       "    }\n",
       "</style>\n",
       "<table border=\"1\" class=\"dataframe\">\n",
       "  <thead>\n",
       "    <tr style=\"text-align: right;\">\n",
       "      <th></th>\n",
       "      <th>name</th>\n",
       "      <th>rno</th>\n",
       "      <th>branch</th>\n",
       "    </tr>\n",
       "  </thead>\n",
       "  <tbody>\n",
       "    <tr>\n",
       "      <th>1</th>\n",
       "      <td>prasad</td>\n",
       "      <td>42</td>\n",
       "      <td>cst</td>\n",
       "    </tr>\n",
       "    <tr>\n",
       "      <th>2</th>\n",
       "      <td>rohith</td>\n",
       "      <td>50</td>\n",
       "      <td>cst</td>\n",
       "    </tr>\n",
       "    <tr>\n",
       "      <th>3</th>\n",
       "      <td>varma</td>\n",
       "      <td>41</td>\n",
       "      <td>cst</td>\n",
       "    </tr>\n",
       "  </tbody>\n",
       "</table>\n",
       "</div>"
      ],
      "text/plain": [
       "     name  rno branch\n",
       "1  prasad   42    cst\n",
       "2  rohith   50    cst\n",
       "3   varma   41    cst"
      ]
     },
     "execution_count": 49,
     "metadata": {},
     "output_type": "execute_result"
    }
   ],
   "source": [
    "df=pd.DataFrame(d,[1,2,3])\n",
    "df"
   ]
  },
  {
   "cell_type": "code",
   "execution_count": 51,
   "id": "7d21954f",
   "metadata": {},
   "outputs": [
    {
     "data": {
      "text/html": [
       "<div>\n",
       "<style scoped>\n",
       "    .dataframe tbody tr th:only-of-type {\n",
       "        vertical-align: middle;\n",
       "    }\n",
       "\n",
       "    .dataframe tbody tr th {\n",
       "        vertical-align: top;\n",
       "    }\n",
       "\n",
       "    .dataframe thead th {\n",
       "        text-align: right;\n",
       "    }\n",
       "</style>\n",
       "<table border=\"1\" class=\"dataframe\">\n",
       "  <thead>\n",
       "    <tr style=\"text-align: right;\">\n",
       "      <th></th>\n",
       "      <th>w</th>\n",
       "      <th>x</th>\n",
       "      <th>y</th>\n",
       "      <th>z</th>\n",
       "    </tr>\n",
       "  </thead>\n",
       "  <tbody>\n",
       "    <tr>\n",
       "      <th>a</th>\n",
       "      <td>0.282681</td>\n",
       "      <td>0.203761</td>\n",
       "      <td>0.688190</td>\n",
       "      <td>0.066383</td>\n",
       "    </tr>\n",
       "    <tr>\n",
       "      <th>b</th>\n",
       "      <td>0.617469</td>\n",
       "      <td>0.708289</td>\n",
       "      <td>0.155903</td>\n",
       "      <td>0.032856</td>\n",
       "    </tr>\n",
       "    <tr>\n",
       "      <th>c</th>\n",
       "      <td>0.940931</td>\n",
       "      <td>0.230740</td>\n",
       "      <td>0.170918</td>\n",
       "      <td>0.104095</td>\n",
       "    </tr>\n",
       "    <tr>\n",
       "      <th>d</th>\n",
       "      <td>0.817212</td>\n",
       "      <td>0.309493</td>\n",
       "      <td>0.840549</td>\n",
       "      <td>0.982833</td>\n",
       "    </tr>\n",
       "    <tr>\n",
       "      <th>e</th>\n",
       "      <td>0.883493</td>\n",
       "      <td>0.508611</td>\n",
       "      <td>0.672262</td>\n",
       "      <td>0.694234</td>\n",
       "    </tr>\n",
       "  </tbody>\n",
       "</table>\n",
       "</div>"
      ],
      "text/plain": [
       "          w         x         y         z\n",
       "a  0.282681  0.203761  0.688190  0.066383\n",
       "b  0.617469  0.708289  0.155903  0.032856\n",
       "c  0.940931  0.230740  0.170918  0.104095\n",
       "d  0.817212  0.309493  0.840549  0.982833\n",
       "e  0.883493  0.508611  0.672262  0.694234"
      ]
     },
     "execution_count": 51,
     "metadata": {},
     "output_type": "execute_result"
    }
   ],
   "source": [
    "df"
   ]
  },
  {
   "cell_type": "code",
   "execution_count": 52,
   "id": "c96c265b",
   "metadata": {},
   "outputs": [
    {
     "data": {
      "text/html": [
       "<div>\n",
       "<style scoped>\n",
       "    .dataframe tbody tr th:only-of-type {\n",
       "        vertical-align: middle;\n",
       "    }\n",
       "\n",
       "    .dataframe tbody tr th {\n",
       "        vertical-align: top;\n",
       "    }\n",
       "\n",
       "    .dataframe thead th {\n",
       "        text-align: right;\n",
       "    }\n",
       "</style>\n",
       "<table border=\"1\" class=\"dataframe\">\n",
       "  <thead>\n",
       "    <tr style=\"text-align: right;\">\n",
       "      <th></th>\n",
       "      <th>a</th>\n",
       "      <th>b</th>\n",
       "      <th>c</th>\n",
       "      <th>d</th>\n",
       "      <th>e</th>\n",
       "    </tr>\n",
       "  </thead>\n",
       "  <tbody>\n",
       "    <tr>\n",
       "      <th>w</th>\n",
       "      <td>0.282681</td>\n",
       "      <td>0.617469</td>\n",
       "      <td>0.940931</td>\n",
       "      <td>0.817212</td>\n",
       "      <td>0.883493</td>\n",
       "    </tr>\n",
       "    <tr>\n",
       "      <th>x</th>\n",
       "      <td>0.203761</td>\n",
       "      <td>0.708289</td>\n",
       "      <td>0.230740</td>\n",
       "      <td>0.309493</td>\n",
       "      <td>0.508611</td>\n",
       "    </tr>\n",
       "    <tr>\n",
       "      <th>y</th>\n",
       "      <td>0.688190</td>\n",
       "      <td>0.155903</td>\n",
       "      <td>0.170918</td>\n",
       "      <td>0.840549</td>\n",
       "      <td>0.672262</td>\n",
       "    </tr>\n",
       "    <tr>\n",
       "      <th>z</th>\n",
       "      <td>0.066383</td>\n",
       "      <td>0.032856</td>\n",
       "      <td>0.104095</td>\n",
       "      <td>0.982833</td>\n",
       "      <td>0.694234</td>\n",
       "    </tr>\n",
       "  </tbody>\n",
       "</table>\n",
       "</div>"
      ],
      "text/plain": [
       "          a         b         c         d         e\n",
       "w  0.282681  0.617469  0.940931  0.817212  0.883493\n",
       "x  0.203761  0.708289  0.230740  0.309493  0.508611\n",
       "y  0.688190  0.155903  0.170918  0.840549  0.672262\n",
       "z  0.066383  0.032856  0.104095  0.982833  0.694234"
      ]
     },
     "execution_count": 52,
     "metadata": {},
     "output_type": "execute_result"
    }
   ],
   "source": [
    "#to convert colum to row and row to colum\n",
    "df.T"
   ]
  },
  {
   "cell_type": "code",
   "execution_count": 53,
   "id": "c23cb6a1",
   "metadata": {},
   "outputs": [
    {
     "data": {
      "text/plain": [
       "Index(['a', 'b', 'c', 'd', 'e'], dtype='object')"
      ]
     },
     "execution_count": 53,
     "metadata": {},
     "output_type": "execute_result"
    }
   ],
   "source": [
    "#to get row names\n",
    "df.index"
   ]
  },
  {
   "cell_type": "code",
   "execution_count": 55,
   "id": "60efa7da",
   "metadata": {},
   "outputs": [
    {
     "data": {
      "text/plain": [
       "Index(['w', 'x', 'y', 'z'], dtype='object')"
      ]
     },
     "execution_count": 55,
     "metadata": {},
     "output_type": "execute_result"
    }
   ],
   "source": [
    "#to get colum names\n",
    "df.columns"
   ]
  },
  {
   "cell_type": "code",
   "execution_count": 56,
   "id": "6a80f4cf",
   "metadata": {},
   "outputs": [
    {
     "data": {
      "text/plain": [
       "pandas.core.frame.DataFrame"
      ]
     },
     "execution_count": 56,
     "metadata": {},
     "output_type": "execute_result"
    }
   ],
   "source": [
    "type(df)"
   ]
  },
  {
   "cell_type": "code",
   "execution_count": 61,
   "id": "475a9fb1",
   "metadata": {},
   "outputs": [
    {
     "data": {
      "text/plain": [
       "w    float64\n",
       "x    float64\n",
       "y    float64\n",
       "z    float64\n",
       "dtype: object"
      ]
     },
     "execution_count": 61,
     "metadata": {},
     "output_type": "execute_result"
    }
   ],
   "source": [
    "df.dtypes"
   ]
  },
  {
   "cell_type": "code",
   "execution_count": 62,
   "id": "e223fa25",
   "metadata": {},
   "outputs": [
    {
     "name": "stdout",
     "output_type": "stream",
     "text": [
      "<class 'pandas.core.frame.DataFrame'>\n",
      "Index: 5 entries, a to e\n",
      "Data columns (total 4 columns):\n",
      " #   Column  Non-Null Count  Dtype  \n",
      "---  ------  --------------  -----  \n",
      " 0   w       5 non-null      float64\n",
      " 1   x       5 non-null      float64\n",
      " 2   y       5 non-null      float64\n",
      " 3   z       5 non-null      float64\n",
      "dtypes: float64(4)\n",
      "memory usage: 372.0+ bytes\n"
     ]
    }
   ],
   "source": [
    "df.info()"
   ]
  },
  {
   "cell_type": "code",
   "execution_count": 63,
   "id": "ff818e75",
   "metadata": {},
   "outputs": [
    {
     "data": {
      "text/plain": [
       "array([[0.28268094, 0.2037606 , 0.68818955, 0.06638349],\n",
       "       [0.61746871, 0.70828897, 0.15590298, 0.0328561 ],\n",
       "       [0.94093089, 0.23073995, 0.17091817, 0.10409489],\n",
       "       [0.81721158, 0.30949321, 0.84054915, 0.98283299],\n",
       "       [0.88349342, 0.50861054, 0.67226232, 0.69423352]])"
      ]
     },
     "execution_count": 63,
     "metadata": {},
     "output_type": "execute_result"
    }
   ],
   "source": [
    "df.values"
   ]
  },
  {
   "cell_type": "code",
   "execution_count": 64,
   "id": "de13ac46",
   "metadata": {},
   "outputs": [
    {
     "data": {
      "text/plain": [
       "20"
      ]
     },
     "execution_count": 64,
     "metadata": {},
     "output_type": "execute_result"
    }
   ],
   "source": [
    "df.size"
   ]
  },
  {
   "cell_type": "code",
   "execution_count": 65,
   "id": "9dcbcf78",
   "metadata": {},
   "outputs": [
    {
     "data": {
      "text/plain": [
       "a    0.282681\n",
       "b    0.617469\n",
       "c    0.940931\n",
       "d    0.817212\n",
       "e    0.883493\n",
       "Name: w, dtype: float64"
      ]
     },
     "execution_count": 65,
     "metadata": {},
     "output_type": "execute_result"
    }
   ],
   "source": [
    "# To access specific column in df\n",
    "df['w']"
   ]
  },
  {
   "cell_type": "code",
   "execution_count": 66,
   "id": "72896b7e",
   "metadata": {},
   "outputs": [
    {
     "data": {
      "text/html": [
       "<div>\n",
       "<style scoped>\n",
       "    .dataframe tbody tr th:only-of-type {\n",
       "        vertical-align: middle;\n",
       "    }\n",
       "\n",
       "    .dataframe tbody tr th {\n",
       "        vertical-align: top;\n",
       "    }\n",
       "\n",
       "    .dataframe thead th {\n",
       "        text-align: right;\n",
       "    }\n",
       "</style>\n",
       "<table border=\"1\" class=\"dataframe\">\n",
       "  <thead>\n",
       "    <tr style=\"text-align: right;\">\n",
       "      <th></th>\n",
       "      <th>w</th>\n",
       "      <th>x</th>\n",
       "      <th>y</th>\n",
       "    </tr>\n",
       "  </thead>\n",
       "  <tbody>\n",
       "    <tr>\n",
       "      <th>a</th>\n",
       "      <td>0.282681</td>\n",
       "      <td>0.203761</td>\n",
       "      <td>0.688190</td>\n",
       "    </tr>\n",
       "    <tr>\n",
       "      <th>b</th>\n",
       "      <td>0.617469</td>\n",
       "      <td>0.708289</td>\n",
       "      <td>0.155903</td>\n",
       "    </tr>\n",
       "    <tr>\n",
       "      <th>c</th>\n",
       "      <td>0.940931</td>\n",
       "      <td>0.230740</td>\n",
       "      <td>0.170918</td>\n",
       "    </tr>\n",
       "    <tr>\n",
       "      <th>d</th>\n",
       "      <td>0.817212</td>\n",
       "      <td>0.309493</td>\n",
       "      <td>0.840549</td>\n",
       "    </tr>\n",
       "    <tr>\n",
       "      <th>e</th>\n",
       "      <td>0.883493</td>\n",
       "      <td>0.508611</td>\n",
       "      <td>0.672262</td>\n",
       "    </tr>\n",
       "  </tbody>\n",
       "</table>\n",
       "</div>"
      ],
      "text/plain": [
       "          w         x         y\n",
       "a  0.282681  0.203761  0.688190\n",
       "b  0.617469  0.708289  0.155903\n",
       "c  0.940931  0.230740  0.170918\n",
       "d  0.817212  0.309493  0.840549\n",
       "e  0.883493  0.508611  0.672262"
      ]
     },
     "execution_count": 66,
     "metadata": {},
     "output_type": "execute_result"
    }
   ],
   "source": [
    "# To access specific multipile columns in df\n",
    "df[['w','x','y']]"
   ]
  },
  {
   "cell_type": "code",
   "execution_count": 68,
   "id": "eb9593a9",
   "metadata": {},
   "outputs": [
    {
     "data": {
      "text/plain": [
       "a    0.486442\n",
       "b    1.325758\n",
       "c    1.171671\n",
       "d    1.126705\n",
       "e    1.392104\n",
       "Name: n, dtype: float64"
      ]
     },
     "execution_count": 68,
     "metadata": {},
     "output_type": "execute_result"
    }
   ],
   "source": [
    "df['n']=df['w']+df['x']\n",
    "df['n']"
   ]
  },
  {
   "cell_type": "code",
   "execution_count": 69,
   "id": "118d9a00",
   "metadata": {},
   "outputs": [
    {
     "data": {
      "text/html": [
       "<div>\n",
       "<style scoped>\n",
       "    .dataframe tbody tr th:only-of-type {\n",
       "        vertical-align: middle;\n",
       "    }\n",
       "\n",
       "    .dataframe tbody tr th {\n",
       "        vertical-align: top;\n",
       "    }\n",
       "\n",
       "    .dataframe thead th {\n",
       "        text-align: right;\n",
       "    }\n",
       "</style>\n",
       "<table border=\"1\" class=\"dataframe\">\n",
       "  <thead>\n",
       "    <tr style=\"text-align: right;\">\n",
       "      <th></th>\n",
       "      <th>w</th>\n",
       "      <th>x</th>\n",
       "      <th>y</th>\n",
       "      <th>z</th>\n",
       "      <th>n</th>\n",
       "    </tr>\n",
       "  </thead>\n",
       "  <tbody>\n",
       "    <tr>\n",
       "      <th>a</th>\n",
       "      <td>0.282681</td>\n",
       "      <td>0.203761</td>\n",
       "      <td>0.688190</td>\n",
       "      <td>0.066383</td>\n",
       "      <td>0.486442</td>\n",
       "    </tr>\n",
       "    <tr>\n",
       "      <th>b</th>\n",
       "      <td>0.617469</td>\n",
       "      <td>0.708289</td>\n",
       "      <td>0.155903</td>\n",
       "      <td>0.032856</td>\n",
       "      <td>1.325758</td>\n",
       "    </tr>\n",
       "    <tr>\n",
       "      <th>c</th>\n",
       "      <td>0.940931</td>\n",
       "      <td>0.230740</td>\n",
       "      <td>0.170918</td>\n",
       "      <td>0.104095</td>\n",
       "      <td>1.171671</td>\n",
       "    </tr>\n",
       "    <tr>\n",
       "      <th>d</th>\n",
       "      <td>0.817212</td>\n",
       "      <td>0.309493</td>\n",
       "      <td>0.840549</td>\n",
       "      <td>0.982833</td>\n",
       "      <td>1.126705</td>\n",
       "    </tr>\n",
       "    <tr>\n",
       "      <th>e</th>\n",
       "      <td>0.883493</td>\n",
       "      <td>0.508611</td>\n",
       "      <td>0.672262</td>\n",
       "      <td>0.694234</td>\n",
       "      <td>1.392104</td>\n",
       "    </tr>\n",
       "  </tbody>\n",
       "</table>\n",
       "</div>"
      ],
      "text/plain": [
       "          w         x         y         z         n\n",
       "a  0.282681  0.203761  0.688190  0.066383  0.486442\n",
       "b  0.617469  0.708289  0.155903  0.032856  1.325758\n",
       "c  0.940931  0.230740  0.170918  0.104095  1.171671\n",
       "d  0.817212  0.309493  0.840549  0.982833  1.126705\n",
       "e  0.883493  0.508611  0.672262  0.694234  1.392104"
      ]
     },
     "execution_count": 69,
     "metadata": {},
     "output_type": "execute_result"
    }
   ],
   "source": [
    "df"
   ]
  },
  {
   "cell_type": "code",
   "execution_count": 74,
   "id": "2da278f0",
   "metadata": {},
   "outputs": [
    {
     "data": {
      "text/html": [
       "<div>\n",
       "<style scoped>\n",
       "    .dataframe tbody tr th:only-of-type {\n",
       "        vertical-align: middle;\n",
       "    }\n",
       "\n",
       "    .dataframe tbody tr th {\n",
       "        vertical-align: top;\n",
       "    }\n",
       "\n",
       "    .dataframe thead th {\n",
       "        text-align: right;\n",
       "    }\n",
       "</style>\n",
       "<table border=\"1\" class=\"dataframe\">\n",
       "  <thead>\n",
       "    <tr style=\"text-align: right;\">\n",
       "      <th></th>\n",
       "      <th>w</th>\n",
       "      <th>x</th>\n",
       "      <th>y</th>\n",
       "      <th>z</th>\n",
       "    </tr>\n",
       "  </thead>\n",
       "  <tbody>\n",
       "    <tr>\n",
       "      <th>a</th>\n",
       "      <td>0.282681</td>\n",
       "      <td>0.203761</td>\n",
       "      <td>0.688190</td>\n",
       "      <td>0.066383</td>\n",
       "    </tr>\n",
       "    <tr>\n",
       "      <th>b</th>\n",
       "      <td>0.617469</td>\n",
       "      <td>0.708289</td>\n",
       "      <td>0.155903</td>\n",
       "      <td>0.032856</td>\n",
       "    </tr>\n",
       "    <tr>\n",
       "      <th>c</th>\n",
       "      <td>0.940931</td>\n",
       "      <td>0.230740</td>\n",
       "      <td>0.170918</td>\n",
       "      <td>0.104095</td>\n",
       "    </tr>\n",
       "    <tr>\n",
       "      <th>d</th>\n",
       "      <td>0.817212</td>\n",
       "      <td>0.309493</td>\n",
       "      <td>0.840549</td>\n",
       "      <td>0.982833</td>\n",
       "    </tr>\n",
       "    <tr>\n",
       "      <th>e</th>\n",
       "      <td>0.883493</td>\n",
       "      <td>0.508611</td>\n",
       "      <td>0.672262</td>\n",
       "      <td>0.694234</td>\n",
       "    </tr>\n",
       "  </tbody>\n",
       "</table>\n",
       "</div>"
      ],
      "text/plain": [
       "          w         x         y         z\n",
       "a  0.282681  0.203761  0.688190  0.066383\n",
       "b  0.617469  0.708289  0.155903  0.032856\n",
       "c  0.940931  0.230740  0.170918  0.104095\n",
       "d  0.817212  0.309493  0.840549  0.982833\n",
       "e  0.883493  0.508611  0.672262  0.694234"
      ]
     },
     "execution_count": 74,
     "metadata": {},
     "output_type": "execute_result"
    }
   ],
   "source": [
    "df.drop('n',axis=1,inplace=True)\n",
    "df"
   ]
  },
  {
   "cell_type": "code",
   "execution_count": 75,
   "id": "b10f462d",
   "metadata": {},
   "outputs": [
    {
     "data": {
      "text/html": [
       "<div>\n",
       "<style scoped>\n",
       "    .dataframe tbody tr th:only-of-type {\n",
       "        vertical-align: middle;\n",
       "    }\n",
       "\n",
       "    .dataframe tbody tr th {\n",
       "        vertical-align: top;\n",
       "    }\n",
       "\n",
       "    .dataframe thead th {\n",
       "        text-align: right;\n",
       "    }\n",
       "</style>\n",
       "<table border=\"1\" class=\"dataframe\">\n",
       "  <thead>\n",
       "    <tr style=\"text-align: right;\">\n",
       "      <th></th>\n",
       "      <th>w</th>\n",
       "      <th>x</th>\n",
       "      <th>y</th>\n",
       "      <th>z</th>\n",
       "    </tr>\n",
       "  </thead>\n",
       "  <tbody>\n",
       "    <tr>\n",
       "      <th>a</th>\n",
       "      <td>0.282681</td>\n",
       "      <td>0.203761</td>\n",
       "      <td>0.688190</td>\n",
       "      <td>0.066383</td>\n",
       "    </tr>\n",
       "    <tr>\n",
       "      <th>b</th>\n",
       "      <td>0.617469</td>\n",
       "      <td>0.708289</td>\n",
       "      <td>0.155903</td>\n",
       "      <td>0.032856</td>\n",
       "    </tr>\n",
       "    <tr>\n",
       "      <th>c</th>\n",
       "      <td>0.940931</td>\n",
       "      <td>0.230740</td>\n",
       "      <td>0.170918</td>\n",
       "      <td>0.104095</td>\n",
       "    </tr>\n",
       "    <tr>\n",
       "      <th>d</th>\n",
       "      <td>0.817212</td>\n",
       "      <td>0.309493</td>\n",
       "      <td>0.840549</td>\n",
       "      <td>0.982833</td>\n",
       "    </tr>\n",
       "    <tr>\n",
       "      <th>e</th>\n",
       "      <td>0.883493</td>\n",
       "      <td>0.508611</td>\n",
       "      <td>0.672262</td>\n",
       "      <td>0.694234</td>\n",
       "    </tr>\n",
       "  </tbody>\n",
       "</table>\n",
       "</div>"
      ],
      "text/plain": [
       "          w         x         y         z\n",
       "a  0.282681  0.203761  0.688190  0.066383\n",
       "b  0.617469  0.708289  0.155903  0.032856\n",
       "c  0.940931  0.230740  0.170918  0.104095\n",
       "d  0.817212  0.309493  0.840549  0.982833\n",
       "e  0.883493  0.508611  0.672262  0.694234"
      ]
     },
     "execution_count": 75,
     "metadata": {},
     "output_type": "execute_result"
    }
   ],
   "source": [
    "df"
   ]
  },
  {
   "cell_type": "code",
   "execution_count": null,
   "id": "d8cf0290",
   "metadata": {},
   "outputs": [],
   "source": []
  }
 ],
 "metadata": {
  "kernelspec": {
   "display_name": "Python 3 (ipykernel)",
   "language": "python",
   "name": "python3"
  },
  "language_info": {
   "codemirror_mode": {
    "name": "ipython",
    "version": 3
   },
   "file_extension": ".py",
   "mimetype": "text/x-python",
   "name": "python",
   "nbconvert_exporter": "python",
   "pygments_lexer": "ipython3",
   "version": "3.10.9"
  }
 },
 "nbformat": 4,
 "nbformat_minor": 5
}
