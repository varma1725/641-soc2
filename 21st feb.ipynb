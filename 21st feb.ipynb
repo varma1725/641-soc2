{
 "cells": [
  {
   "cell_type": "code",
   "execution_count": 1,
   "id": "5d713a88",
   "metadata": {},
   "outputs": [
    {
     "name": "stdout",
     "output_type": "stream",
     "text": [
      "Requirement already satisfied: selenium in c:\\users\\prasa\\contacts\\anaconda\\lib\\site-packages (4.18.1)\n",
      "Requirement already satisfied: urllib3<3,>=1.26 in c:\\users\\prasa\\contacts\\anaconda\\lib\\site-packages (from urllib3[socks]<3,>=1.26->selenium) (1.26.14)\n",
      "Requirement already satisfied: trio~=0.17 in c:\\users\\prasa\\contacts\\anaconda\\lib\\site-packages (from selenium) (0.24.0)\n",
      "Requirement already satisfied: trio-websocket~=0.9 in c:\\users\\prasa\\contacts\\anaconda\\lib\\site-packages (from selenium) (0.11.1)\n",
      "Requirement already satisfied: certifi>=2021.10.8 in c:\\users\\prasa\\contacts\\anaconda\\lib\\site-packages (from selenium) (2022.12.7)\n",
      "Requirement already satisfied: typing_extensions>=4.9.0 in c:\\users\\prasa\\contacts\\anaconda\\lib\\site-packages (from selenium) (4.9.0)\n",
      "Requirement already satisfied: attrs>=20.1.0 in c:\\users\\prasa\\contacts\\anaconda\\lib\\site-packages (from trio~=0.17->selenium) (22.1.0)\n",
      "Requirement already satisfied: sortedcontainers in c:\\users\\prasa\\contacts\\anaconda\\lib\\site-packages (from trio~=0.17->selenium) (2.4.0)\n",
      "Requirement already satisfied: idna in c:\\users\\prasa\\contacts\\anaconda\\lib\\site-packages (from trio~=0.17->selenium) (3.4)\n",
      "Requirement already satisfied: outcome in c:\\users\\prasa\\contacts\\anaconda\\lib\\site-packages (from trio~=0.17->selenium) (1.3.0.post0)\n",
      "Requirement already satisfied: sniffio>=1.3.0 in c:\\users\\prasa\\contacts\\anaconda\\lib\\site-packages (from trio~=0.17->selenium) (1.3.0)\n",
      "Requirement already satisfied: cffi>=1.14 in c:\\users\\prasa\\contacts\\anaconda\\lib\\site-packages (from trio~=0.17->selenium) (1.15.1)\n",
      "Requirement already satisfied: exceptiongroup in c:\\users\\prasa\\contacts\\anaconda\\lib\\site-packages (from trio~=0.17->selenium) (1.2.0)\n",
      "Requirement already satisfied: wsproto>=0.14 in c:\\users\\prasa\\contacts\\anaconda\\lib\\site-packages (from trio-websocket~=0.9->selenium) (1.2.0)\n",
      "Requirement already satisfied: PySocks!=1.5.7,<2.0,>=1.5.6 in c:\\users\\prasa\\contacts\\anaconda\\lib\\site-packages (from urllib3[socks]<3,>=1.26->selenium) (1.7.1)\n",
      "Requirement already satisfied: pycparser in c:\\users\\prasa\\contacts\\anaconda\\lib\\site-packages (from cffi>=1.14->trio~=0.17->selenium) (2.21)\n",
      "Requirement already satisfied: h11<1,>=0.9.0 in c:\\users\\prasa\\contacts\\anaconda\\lib\\site-packages (from wsproto>=0.14->trio-websocket~=0.9->selenium) (0.14.0)\n",
      "Note: you may need to restart the kernel to use updated packages.\n"
     ]
    }
   ],
   "source": [
    "pip install selenium"
   ]
  },
  {
   "cell_type": "code",
   "execution_count": 2,
   "id": "0d8b1e59",
   "metadata": {},
   "outputs": [],
   "source": [
    "from selenium import webdriver\n",
    "from selenium.webdriver.chrome.service import Service\n",
    "from selenium.webdriver.common.by import By\n",
    "s = Service(r\"C:\\Users\\prasa\\Desktop\\new\\chromedriver-win64\\chromedriver.exe\")\n",
    "driver = webdriver.Chrome(service=s)\n",
    "driver.get(\"https://stackoverflow.com/questions/77030802/attributeerror-str-object-has-no-attribute-capabilities\")"
   ]
  },
  {
   "cell_type": "code",
   "execution_count": 3,
   "id": "286854b1",
   "metadata": {},
   "outputs": [],
   "source": [
    "#To check mail is spam or not\n",
    "import numpy as np\n",
    "import pandas as pd\n",
    "import matplotlib.pyplot as plt\n",
    "from sklearn.model_selection import train_test_split\n",
    "from sklearn.linear_model import LogisticRegression\n",
    "from sklearn.metrics import accuracy_score"
   ]
  },
  {
   "cell_type": "code",
   "execution_count": 4,
   "id": "a98a79b9",
   "metadata": {},
   "outputs": [],
   "source": [
    "rmd=pd.read_csv(\"C:\\\\Users\\\\prasa\\\\Desktop\\\\mail_data.csv\")"
   ]
  },
  {
   "cell_type": "code",
   "execution_count": 5,
   "id": "2fc90e15",
   "metadata": {},
   "outputs": [
    {
     "data": {
      "text/html": [
       "<div>\n",
       "<style scoped>\n",
       "    .dataframe tbody tr th:only-of-type {\n",
       "        vertical-align: middle;\n",
       "    }\n",
       "\n",
       "    .dataframe tbody tr th {\n",
       "        vertical-align: top;\n",
       "    }\n",
       "\n",
       "    .dataframe thead th {\n",
       "        text-align: right;\n",
       "    }\n",
       "</style>\n",
       "<table border=\"1\" class=\"dataframe\">\n",
       "  <thead>\n",
       "    <tr style=\"text-align: right;\">\n",
       "      <th></th>\n",
       "      <th>Category</th>\n",
       "      <th>Message</th>\n",
       "    </tr>\n",
       "  </thead>\n",
       "  <tbody>\n",
       "    <tr>\n",
       "      <th>0</th>\n",
       "      <td>ham</td>\n",
       "      <td>Go until jurong point, crazy.. Available only ...</td>\n",
       "    </tr>\n",
       "    <tr>\n",
       "      <th>1</th>\n",
       "      <td>ham</td>\n",
       "      <td>Ok lar... Joking wif u oni...</td>\n",
       "    </tr>\n",
       "    <tr>\n",
       "      <th>2</th>\n",
       "      <td>spam</td>\n",
       "      <td>Free entry in 2 a wkly comp to win FA Cup fina...</td>\n",
       "    </tr>\n",
       "    <tr>\n",
       "      <th>3</th>\n",
       "      <td>ham</td>\n",
       "      <td>U dun say so early hor... U c already then say...</td>\n",
       "    </tr>\n",
       "    <tr>\n",
       "      <th>4</th>\n",
       "      <td>ham</td>\n",
       "      <td>Nah I don't think he goes to usf, he lives aro...</td>\n",
       "    </tr>\n",
       "  </tbody>\n",
       "</table>\n",
       "</div>"
      ],
      "text/plain": [
       "  Category                                            Message\n",
       "0      ham  Go until jurong point, crazy.. Available only ...\n",
       "1      ham                      Ok lar... Joking wif u oni...\n",
       "2     spam  Free entry in 2 a wkly comp to win FA Cup fina...\n",
       "3      ham  U dun say so early hor... U c already then say...\n",
       "4      ham  Nah I don't think he goes to usf, he lives aro..."
      ]
     },
     "execution_count": 5,
     "metadata": {},
     "output_type": "execute_result"
    }
   ],
   "source": [
    "rmd.head()"
   ]
  },
  {
   "cell_type": "code",
   "execution_count": 6,
   "id": "0c24c13c",
   "metadata": {},
   "outputs": [
    {
     "data": {
      "text/plain": [
       "Category    0\n",
       "Message     0\n",
       "dtype: int64"
      ]
     },
     "execution_count": 6,
     "metadata": {},
     "output_type": "execute_result"
    }
   ],
   "source": [
    "#to check and nan field in columns\n",
    "rmd.isna().sum()"
   ]
  },
  {
   "cell_type": "code",
   "execution_count": 7,
   "id": "0c3c9450",
   "metadata": {},
   "outputs": [],
   "source": [
    "#to covert category field to numerical field\n",
    "rmd.replace(['spam','ham'],[0,1],inplace=True)"
   ]
  },
  {
   "cell_type": "code",
   "execution_count": 8,
   "id": "929f8587",
   "metadata": {},
   "outputs": [
    {
     "data": {
      "text/plain": [
       "(5572, 2)"
      ]
     },
     "execution_count": 8,
     "metadata": {},
     "output_type": "execute_result"
    }
   ],
   "source": [
    "rmd.shape"
   ]
  },
  {
   "cell_type": "code",
   "execution_count": 9,
   "id": "e41515ec",
   "metadata": {},
   "outputs": [
    {
     "data": {
      "text/plain": [
       "0       1\n",
       "1       1\n",
       "2       0\n",
       "3       1\n",
       "4       1\n",
       "       ..\n",
       "5567    0\n",
       "5568    1\n",
       "5569    1\n",
       "5570    1\n",
       "5571    1\n",
       "Name: Category, Length: 5572, dtype: int64"
      ]
     },
     "execution_count": 9,
     "metadata": {},
     "output_type": "execute_result"
    }
   ],
   "source": [
    "rmd['Category']"
   ]
  },
  {
   "cell_type": "code",
   "execution_count": 10,
   "id": "7ced6dab",
   "metadata": {},
   "outputs": [],
   "source": [
    "y=rmd['Category']"
   ]
  },
  {
   "cell_type": "code",
   "execution_count": 11,
   "id": "287f49c2",
   "metadata": {},
   "outputs": [],
   "source": [
    "x=rmd['Message']"
   ]
  },
  {
   "cell_type": "code",
   "execution_count": 12,
   "id": "71a706e0",
   "metadata": {},
   "outputs": [
    {
     "data": {
      "text/plain": [
       "0       Go until jurong point, crazy.. Available only ...\n",
       "1                           Ok lar... Joking wif u oni...\n",
       "2       Free entry in 2 a wkly comp to win FA Cup fina...\n",
       "3       U dun say so early hor... U c already then say...\n",
       "4       Nah I don't think he goes to usf, he lives aro...\n",
       "                              ...                        \n",
       "5567    This is the 2nd time we have tried 2 contact u...\n",
       "5568                 Will ü b going to esplanade fr home?\n",
       "5569    Pity, * was in mood for that. So...any other s...\n",
       "5570    The guy did some bitching but I acted like i'd...\n",
       "5571                           Rofl. Its true to its name\n",
       "Name: Message, Length: 5572, dtype: object"
      ]
     },
     "execution_count": 12,
     "metadata": {},
     "output_type": "execute_result"
    }
   ],
   "source": [
    "x"
   ]
  },
  {
   "cell_type": "code",
   "execution_count": 13,
   "id": "2c425487",
   "metadata": {},
   "outputs": [],
   "source": [
    "#convert to train and test split\n",
    "x_train,x_test,y_train,y_test=train_test_split(x,y,test_size=0.2)"
   ]
  },
  {
   "cell_type": "code",
   "execution_count": 14,
   "id": "87c3d423",
   "metadata": {},
   "outputs": [
    {
     "data": {
      "text/plain": [
       "(4457,)"
      ]
     },
     "execution_count": 14,
     "metadata": {},
     "output_type": "execute_result"
    }
   ],
   "source": [
    "x_train.shape"
   ]
  },
  {
   "cell_type": "code",
   "execution_count": 15,
   "id": "cb58cedf",
   "metadata": {},
   "outputs": [
    {
     "data": {
      "text/plain": [
       "(1115,)"
      ]
     },
     "execution_count": 15,
     "metadata": {},
     "output_type": "execute_result"
    }
   ],
   "source": [
    "x_test.shape"
   ]
  },
  {
   "cell_type": "code",
   "execution_count": 16,
   "id": "f65c53c1",
   "metadata": {},
   "outputs": [
    {
     "data": {
      "text/plain": [
       "(4457,)"
      ]
     },
     "execution_count": 16,
     "metadata": {},
     "output_type": "execute_result"
    }
   ],
   "source": [
    "y_train.shape"
   ]
  },
  {
   "cell_type": "code",
   "execution_count": 17,
   "id": "f87a22fd",
   "metadata": {},
   "outputs": [
    {
     "data": {
      "text/plain": [
       "(1115,)"
      ]
     },
     "execution_count": 17,
     "metadata": {},
     "output_type": "execute_result"
    }
   ],
   "source": [
    "y_test.shape"
   ]
  },
  {
   "cell_type": "code",
   "execution_count": 18,
   "id": "8e638bb6",
   "metadata": {},
   "outputs": [],
   "source": [
    "from sklearn.feature_extraction.text import TfidfVectorizer"
   ]
  },
  {
   "cell_type": "code",
   "execution_count": 19,
   "id": "607a6c08",
   "metadata": {},
   "outputs": [],
   "source": [
    "#term Frequency Inverse Document Frequency-->\n",
    "feature_extraction=TfidfVectorizer()\n",
    "x_train_feature=feature_extraction.fit_transform(x_train)"
   ]
  },
  {
   "cell_type": "code",
   "execution_count": 20,
   "id": "3b312b71",
   "metadata": {},
   "outputs": [
    {
     "name": "stdout",
     "output_type": "stream",
     "text": [
      "  (0, 1384)\t0.2552561995996422\n",
      "  (0, 5517)\t0.1913351535467689\n",
      "  (0, 1155)\t0.26772000458224254\n",
      "  (0, 7395)\t0.11548866172487669\n",
      "  (0, 4034)\t0.14716040566028454\n",
      "  (0, 3108)\t0.22921066551333205\n",
      "  (0, 2540)\t0.26772000458224254\n",
      "  (0, 2245)\t0.18771455893252603\n",
      "  (0, 4580)\t0.18249194317841147\n",
      "  (0, 3170)\t0.24931894453446224\n",
      "  (0, 4663)\t0.21531685732930672\n",
      "  (0, 6840)\t0.17413282982881623\n",
      "  (0, 7428)\t0.47910732474323026\n",
      "  (0, 4216)\t0.22921066551333205\n",
      "  (0, 2788)\t0.21531685732930672\n",
      "  (0, 6287)\t0.10931026680732293\n",
      "  (0, 3209)\t0.256122558600661\n",
      "  (0, 7467)\t0.15210249815544385\n",
      "  (0, 3297)\t0.17563261631874183\n",
      "  (1, 4193)\t0.2460361522678657\n",
      "  (1, 6327)\t0.25701098604748174\n",
      "  (1, 1343)\t0.2740556956077509\n",
      "  (1, 2813)\t0.25797265074275005\n",
      "  (1, 3486)\t0.22613327209118042\n",
      "  (1, 2518)\t0.2883965007566106\n",
      "  :\t:\n",
      "  (4455, 1098)\t0.07800491480124128\n",
      "  (4455, 7367)\t0.0728559809305922\n",
      "  (4455, 3960)\t0.07009887710429236\n",
      "  (4455, 3360)\t0.07615101218110873\n",
      "  (4455, 3242)\t0.08320597358971016\n",
      "  (4455, 4234)\t0.15035235733962787\n",
      "  (4455, 6799)\t0.1823305660871281\n",
      "  (4455, 3266)\t0.07018684122816303\n",
      "  (4455, 4256)\t0.07027526469679929\n",
      "  (4455, 6917)\t0.03694931072489993\n",
      "  (4455, 6811)\t0.07081572724775723\n",
      "  (4455, 1590)\t0.06051044235260501\n",
      "  (4455, 3635)\t0.049355988275835254\n",
      "  (4455, 3741)\t0.050780224557616736\n",
      "  (4455, 4889)\t0.11291062931036368\n",
      "  (4455, 7395)\t0.06361763641067215\n",
      "  (4455, 7467)\t0.0837865923830653\n",
      "  (4456, 2052)\t0.5330232861788372\n",
      "  (4456, 3949)\t0.500233414638964\n",
      "  (4456, 2747)\t0.4145397621533551\n",
      "  (4456, 1200)\t0.33658465513410596\n",
      "  (4456, 4234)\t0.2849784031776989\n",
      "  (4456, 7690)\t0.20778528737311464\n",
      "  (4456, 7684)\t0.14535059945842127\n",
      "  (4456, 3635)\t0.18709903821903817\n"
     ]
    }
   ],
   "source": [
    "print(x_train_feature)"
   ]
  },
  {
   "cell_type": "code",
   "execution_count": 21,
   "id": "fbc99009",
   "metadata": {},
   "outputs": [],
   "source": [
    "x_test_feature=feature_extraction.transform(x_test)"
   ]
  },
  {
   "cell_type": "code",
   "execution_count": 22,
   "id": "53a800f6",
   "metadata": {},
   "outputs": [
    {
     "name": "stdout",
     "output_type": "stream",
     "text": [
      "  (0, 7154)\t0.5419975474875935\n",
      "  (0, 6830)\t0.3144407510273877\n",
      "  (0, 5251)\t0.49675535520151914\n",
      "  (0, 4907)\t0.3214658783622998\n",
      "  (0, 4889)\t0.21761442189560784\n",
      "  (0, 4595)\t0.41498665628860587\n",
      "  (0, 973)\t0.19413788199003476\n",
      "  (1, 6951)\t0.255744083249634\n",
      "  (1, 6823)\t0.2235756882631578\n",
      "  (1, 6528)\t0.404191892263112\n",
      "  (1, 6287)\t0.16503183485888842\n",
      "  (1, 4975)\t0.3343888877256857\n",
      "  (1, 4843)\t0.16007512242604902\n",
      "  (1, 4665)\t0.15003368804844794\n",
      "  (1, 4079)\t0.28697488707652247\n",
      "  (1, 3635)\t0.13527216641864265\n",
      "  (1, 3355)\t0.2973307971901029\n",
      "  (1, 3181)\t0.21010635802916452\n",
      "  (1, 2990)\t0.1907023300924912\n",
      "  (1, 2329)\t0.2785134924146279\n",
      "  (1, 2150)\t0.28886940252820836\n",
      "  (1, 1660)\t0.2727047730932268\n",
      "  (1, 1128)\t0.17058195684799132\n",
      "  (2, 7658)\t0.43283730750440896\n",
      "  (2, 6615)\t0.44157837479578416\n",
      "  :\t:\n",
      "  (1112, 3826)\t0.21808527650249337\n",
      "  (1112, 3516)\t0.14665281683745804\n",
      "  (1112, 3486)\t0.17995005380586546\n",
      "  (1112, 3391)\t0.2215136181305316\n",
      "  (1112, 3177)\t0.2396827015564812\n",
      "  (1112, 2864)\t0.21024275486123561\n",
      "  (1112, 2861)\t0.19346778766524694\n",
      "  (1112, 2183)\t0.15748947401648192\n",
      "  (1112, 1490)\t0.2537670720831023\n",
      "  (1112, 1200)\t0.1946098464136105\n",
      "  (1112, 973)\t0.22077995538145997\n",
      "  (1113, 7684)\t0.1875021104977595\n",
      "  (1113, 7354)\t0.35883956182801696\n",
      "  (1113, 6917)\t0.18068719546681622\n",
      "  (1113, 6483)\t0.3807732022376882\n",
      "  (1113, 4571)\t0.46522030584186375\n",
      "  (1113, 3125)\t0.30544455232798895\n",
      "  (1113, 2372)\t0.3099367704775785\n",
      "  (1113, 897)\t0.5026469178950986\n",
      "  (1114, 7684)\t0.1590980460057449\n",
      "  (1114, 7456)\t0.2761391832338576\n",
      "  (1114, 7125)\t0.4860347212563925\n",
      "  (1114, 5092)\t0.4373334249867458\n",
      "  (1114, 4889)\t0.23425267206929704\n",
      "  (1114, 2406)\t0.6450351726774823\n"
     ]
    }
   ],
   "source": [
    "print(x_test_feature)"
   ]
  },
  {
   "cell_type": "code",
   "execution_count": 23,
   "id": "a72f528a",
   "metadata": {},
   "outputs": [],
   "source": [
    "y_train=y_train.astype('int')\n",
    "y_test=y_test.astype('int')"
   ]
  },
  {
   "cell_type": "code",
   "execution_count": 24,
   "id": "3049174a",
   "metadata": {},
   "outputs": [
    {
     "data": {
      "text/plain": [
       "dtype('int32')"
      ]
     },
     "execution_count": 24,
     "metadata": {},
     "output_type": "execute_result"
    }
   ],
   "source": [
    "y_train.dtype"
   ]
  },
  {
   "cell_type": "code",
   "execution_count": 25,
   "id": "71b4b103",
   "metadata": {},
   "outputs": [],
   "source": [
    "model=LogisticRegression()"
   ]
  },
  {
   "cell_type": "code",
   "execution_count": 26,
   "id": "0520d2c1",
   "metadata": {},
   "outputs": [
    {
     "data": {
      "text/html": [
       "<style>#sk-container-id-1 {color: black;background-color: white;}#sk-container-id-1 pre{padding: 0;}#sk-container-id-1 div.sk-toggleable {background-color: white;}#sk-container-id-1 label.sk-toggleable__label {cursor: pointer;display: block;width: 100%;margin-bottom: 0;padding: 0.3em;box-sizing: border-box;text-align: center;}#sk-container-id-1 label.sk-toggleable__label-arrow:before {content: \"▸\";float: left;margin-right: 0.25em;color: #696969;}#sk-container-id-1 label.sk-toggleable__label-arrow:hover:before {color: black;}#sk-container-id-1 div.sk-estimator:hover label.sk-toggleable__label-arrow:before {color: black;}#sk-container-id-1 div.sk-toggleable__content {max-height: 0;max-width: 0;overflow: hidden;text-align: left;background-color: #f0f8ff;}#sk-container-id-1 div.sk-toggleable__content pre {margin: 0.2em;color: black;border-radius: 0.25em;background-color: #f0f8ff;}#sk-container-id-1 input.sk-toggleable__control:checked~div.sk-toggleable__content {max-height: 200px;max-width: 100%;overflow: auto;}#sk-container-id-1 input.sk-toggleable__control:checked~label.sk-toggleable__label-arrow:before {content: \"▾\";}#sk-container-id-1 div.sk-estimator input.sk-toggleable__control:checked~label.sk-toggleable__label {background-color: #d4ebff;}#sk-container-id-1 div.sk-label input.sk-toggleable__control:checked~label.sk-toggleable__label {background-color: #d4ebff;}#sk-container-id-1 input.sk-hidden--visually {border: 0;clip: rect(1px 1px 1px 1px);clip: rect(1px, 1px, 1px, 1px);height: 1px;margin: -1px;overflow: hidden;padding: 0;position: absolute;width: 1px;}#sk-container-id-1 div.sk-estimator {font-family: monospace;background-color: #f0f8ff;border: 1px dotted black;border-radius: 0.25em;box-sizing: border-box;margin-bottom: 0.5em;}#sk-container-id-1 div.sk-estimator:hover {background-color: #d4ebff;}#sk-container-id-1 div.sk-parallel-item::after {content: \"\";width: 100%;border-bottom: 1px solid gray;flex-grow: 1;}#sk-container-id-1 div.sk-label:hover label.sk-toggleable__label {background-color: #d4ebff;}#sk-container-id-1 div.sk-serial::before {content: \"\";position: absolute;border-left: 1px solid gray;box-sizing: border-box;top: 0;bottom: 0;left: 50%;z-index: 0;}#sk-container-id-1 div.sk-serial {display: flex;flex-direction: column;align-items: center;background-color: white;padding-right: 0.2em;padding-left: 0.2em;position: relative;}#sk-container-id-1 div.sk-item {position: relative;z-index: 1;}#sk-container-id-1 div.sk-parallel {display: flex;align-items: stretch;justify-content: center;background-color: white;position: relative;}#sk-container-id-1 div.sk-item::before, #sk-container-id-1 div.sk-parallel-item::before {content: \"\";position: absolute;border-left: 1px solid gray;box-sizing: border-box;top: 0;bottom: 0;left: 50%;z-index: -1;}#sk-container-id-1 div.sk-parallel-item {display: flex;flex-direction: column;z-index: 1;position: relative;background-color: white;}#sk-container-id-1 div.sk-parallel-item:first-child::after {align-self: flex-end;width: 50%;}#sk-container-id-1 div.sk-parallel-item:last-child::after {align-self: flex-start;width: 50%;}#sk-container-id-1 div.sk-parallel-item:only-child::after {width: 0;}#sk-container-id-1 div.sk-dashed-wrapped {border: 1px dashed gray;margin: 0 0.4em 0.5em 0.4em;box-sizing: border-box;padding-bottom: 0.4em;background-color: white;}#sk-container-id-1 div.sk-label label {font-family: monospace;font-weight: bold;display: inline-block;line-height: 1.2em;}#sk-container-id-1 div.sk-label-container {text-align: center;}#sk-container-id-1 div.sk-container {/* jupyter's `normalize.less` sets `[hidden] { display: none; }` but bootstrap.min.css set `[hidden] { display: none !important; }` so we also need the `!important` here to be able to override the default hidden behavior on the sphinx rendered scikit-learn.org. See: https://github.com/scikit-learn/scikit-learn/issues/21755 */display: inline-block !important;position: relative;}#sk-container-id-1 div.sk-text-repr-fallback {display: none;}</style><div id=\"sk-container-id-1\" class=\"sk-top-container\"><div class=\"sk-text-repr-fallback\"><pre>LogisticRegression()</pre><b>In a Jupyter environment, please rerun this cell to show the HTML representation or trust the notebook. <br />On GitHub, the HTML representation is unable to render, please try loading this page with nbviewer.org.</b></div><div class=\"sk-container\" hidden><div class=\"sk-item\"><div class=\"sk-estimator sk-toggleable\"><input class=\"sk-toggleable__control sk-hidden--visually\" id=\"sk-estimator-id-1\" type=\"checkbox\" checked><label for=\"sk-estimator-id-1\" class=\"sk-toggleable__label sk-toggleable__label-arrow\">LogisticRegression</label><div class=\"sk-toggleable__content\"><pre>LogisticRegression()</pre></div></div></div></div></div>"
      ],
      "text/plain": [
       "LogisticRegression()"
      ]
     },
     "execution_count": 26,
     "metadata": {},
     "output_type": "execute_result"
    }
   ],
   "source": [
    "model"
   ]
  },
  {
   "cell_type": "code",
   "execution_count": 27,
   "id": "4693d7bd",
   "metadata": {},
   "outputs": [
    {
     "data": {
      "text/html": [
       "<style>#sk-container-id-2 {color: black;background-color: white;}#sk-container-id-2 pre{padding: 0;}#sk-container-id-2 div.sk-toggleable {background-color: white;}#sk-container-id-2 label.sk-toggleable__label {cursor: pointer;display: block;width: 100%;margin-bottom: 0;padding: 0.3em;box-sizing: border-box;text-align: center;}#sk-container-id-2 label.sk-toggleable__label-arrow:before {content: \"▸\";float: left;margin-right: 0.25em;color: #696969;}#sk-container-id-2 label.sk-toggleable__label-arrow:hover:before {color: black;}#sk-container-id-2 div.sk-estimator:hover label.sk-toggleable__label-arrow:before {color: black;}#sk-container-id-2 div.sk-toggleable__content {max-height: 0;max-width: 0;overflow: hidden;text-align: left;background-color: #f0f8ff;}#sk-container-id-2 div.sk-toggleable__content pre {margin: 0.2em;color: black;border-radius: 0.25em;background-color: #f0f8ff;}#sk-container-id-2 input.sk-toggleable__control:checked~div.sk-toggleable__content {max-height: 200px;max-width: 100%;overflow: auto;}#sk-container-id-2 input.sk-toggleable__control:checked~label.sk-toggleable__label-arrow:before {content: \"▾\";}#sk-container-id-2 div.sk-estimator input.sk-toggleable__control:checked~label.sk-toggleable__label {background-color: #d4ebff;}#sk-container-id-2 div.sk-label input.sk-toggleable__control:checked~label.sk-toggleable__label {background-color: #d4ebff;}#sk-container-id-2 input.sk-hidden--visually {border: 0;clip: rect(1px 1px 1px 1px);clip: rect(1px, 1px, 1px, 1px);height: 1px;margin: -1px;overflow: hidden;padding: 0;position: absolute;width: 1px;}#sk-container-id-2 div.sk-estimator {font-family: monospace;background-color: #f0f8ff;border: 1px dotted black;border-radius: 0.25em;box-sizing: border-box;margin-bottom: 0.5em;}#sk-container-id-2 div.sk-estimator:hover {background-color: #d4ebff;}#sk-container-id-2 div.sk-parallel-item::after {content: \"\";width: 100%;border-bottom: 1px solid gray;flex-grow: 1;}#sk-container-id-2 div.sk-label:hover label.sk-toggleable__label {background-color: #d4ebff;}#sk-container-id-2 div.sk-serial::before {content: \"\";position: absolute;border-left: 1px solid gray;box-sizing: border-box;top: 0;bottom: 0;left: 50%;z-index: 0;}#sk-container-id-2 div.sk-serial {display: flex;flex-direction: column;align-items: center;background-color: white;padding-right: 0.2em;padding-left: 0.2em;position: relative;}#sk-container-id-2 div.sk-item {position: relative;z-index: 1;}#sk-container-id-2 div.sk-parallel {display: flex;align-items: stretch;justify-content: center;background-color: white;position: relative;}#sk-container-id-2 div.sk-item::before, #sk-container-id-2 div.sk-parallel-item::before {content: \"\";position: absolute;border-left: 1px solid gray;box-sizing: border-box;top: 0;bottom: 0;left: 50%;z-index: -1;}#sk-container-id-2 div.sk-parallel-item {display: flex;flex-direction: column;z-index: 1;position: relative;background-color: white;}#sk-container-id-2 div.sk-parallel-item:first-child::after {align-self: flex-end;width: 50%;}#sk-container-id-2 div.sk-parallel-item:last-child::after {align-self: flex-start;width: 50%;}#sk-container-id-2 div.sk-parallel-item:only-child::after {width: 0;}#sk-container-id-2 div.sk-dashed-wrapped {border: 1px dashed gray;margin: 0 0.4em 0.5em 0.4em;box-sizing: border-box;padding-bottom: 0.4em;background-color: white;}#sk-container-id-2 div.sk-label label {font-family: monospace;font-weight: bold;display: inline-block;line-height: 1.2em;}#sk-container-id-2 div.sk-label-container {text-align: center;}#sk-container-id-2 div.sk-container {/* jupyter's `normalize.less` sets `[hidden] { display: none; }` but bootstrap.min.css set `[hidden] { display: none !important; }` so we also need the `!important` here to be able to override the default hidden behavior on the sphinx rendered scikit-learn.org. See: https://github.com/scikit-learn/scikit-learn/issues/21755 */display: inline-block !important;position: relative;}#sk-container-id-2 div.sk-text-repr-fallback {display: none;}</style><div id=\"sk-container-id-2\" class=\"sk-top-container\"><div class=\"sk-text-repr-fallback\"><pre>LogisticRegression()</pre><b>In a Jupyter environment, please rerun this cell to show the HTML representation or trust the notebook. <br />On GitHub, the HTML representation is unable to render, please try loading this page with nbviewer.org.</b></div><div class=\"sk-container\" hidden><div class=\"sk-item\"><div class=\"sk-estimator sk-toggleable\"><input class=\"sk-toggleable__control sk-hidden--visually\" id=\"sk-estimator-id-2\" type=\"checkbox\" checked><label for=\"sk-estimator-id-2\" class=\"sk-toggleable__label sk-toggleable__label-arrow\">LogisticRegression</label><div class=\"sk-toggleable__content\"><pre>LogisticRegression()</pre></div></div></div></div></div>"
      ],
      "text/plain": [
       "LogisticRegression()"
      ]
     },
     "execution_count": 27,
     "metadata": {},
     "output_type": "execute_result"
    }
   ],
   "source": [
    "#process of train model\n",
    "model.fit(x_train_feature,y_train)"
   ]
  },
  {
   "cell_type": "code",
   "execution_count": 28,
   "id": "76a12443",
   "metadata": {},
   "outputs": [],
   "source": [
    "prediction=model.predict(x_test_feature)"
   ]
  },
  {
   "cell_type": "code",
   "execution_count": 29,
   "id": "3a8db0b5",
   "metadata": {},
   "outputs": [
    {
     "data": {
      "text/plain": [
       "array([1, 1, 1, ..., 1, 1, 1])"
      ]
     },
     "execution_count": 29,
     "metadata": {},
     "output_type": "execute_result"
    }
   ],
   "source": [
    "prediction"
   ]
  },
  {
   "cell_type": "code",
   "execution_count": 30,
   "id": "de9b7f53",
   "metadata": {},
   "outputs": [],
   "source": [
    "acc=accuracy_score(prediction,y_test)"
   ]
  },
  {
   "cell_type": "code",
   "execution_count": 31,
   "id": "d51ac969",
   "metadata": {},
   "outputs": [
    {
     "name": "stdout",
     "output_type": "stream",
     "text": [
      "The accuracy of the above model is = 0.9766816143497757\n"
     ]
    }
   ],
   "source": [
    "print(\"The accuracy of the above model is =\",acc)"
   ]
  },
  {
   "cell_type": "code",
   "execution_count": 32,
   "id": "4655b9b7",
   "metadata": {},
   "outputs": [
    {
     "data": {
      "text/plain": [
       "\"They don't put that stuff on the roads to keep it from getting slippery over there?\""
      ]
     },
     "execution_count": 32,
     "metadata": {},
     "output_type": "execute_result"
    }
   ],
   "source": [
    "rmd['Message'][467]"
   ]
  },
  {
   "cell_type": "code",
   "execution_count": 33,
   "id": "84d137fb",
   "metadata": {},
   "outputs": [
    {
     "data": {
      "text/plain": [
       "1"
      ]
     },
     "execution_count": 33,
     "metadata": {},
     "output_type": "execute_result"
    }
   ],
   "source": [
    "rmd['Category'][467]"
   ]
  },
  {
   "cell_type": "code",
   "execution_count": 34,
   "id": "34cf1d05",
   "metadata": {},
   "outputs": [],
   "source": [
    "input_mail=[\"They don't put that stuff on the roads to keep it from getting slippery over there?\"]"
   ]
  },
  {
   "cell_type": "code",
   "execution_count": 35,
   "id": "895b0488",
   "metadata": {},
   "outputs": [
    {
     "name": "stdout",
     "output_type": "stream",
     "text": [
      "Its a ham mail\n"
     ]
    }
   ],
   "source": [
    "idf=feature_extraction.transform(input_mail)\n",
    "if prediction[0]==1:\n",
    "    print('Its a ham mail')\n",
    "else:\n",
    "    print('Its a spam mail')"
   ]
  },
  {
   "cell_type": "code",
   "execution_count": 36,
   "id": "b58705c7",
   "metadata": {},
   "outputs": [],
   "source": [
    "from selenium import webdriver\n",
    "from selenium.webdriver.chrome.service import Service\n",
    "from selenium.webdriver.common.by import By\n",
    "s = Service(r\"C:\\Users\\prasa\\Desktop\\new\\chromedriver-win64\\chromedriver.exe\")\n",
    "webD = webdriver.Chrome(service=s)\n",
    "webD.get(\"https://books.toscrape.com/\")"
   ]
  },
  {
   "cell_type": "code",
   "execution_count": 37,
   "id": "eaa1816c",
   "metadata": {},
   "outputs": [],
   "source": [
    "# #to retrive the elements from webpage\n",
    "# #-->find element by name attribute\n",
    "# ele=webD.find_element_by_name('element name')\n",
    "\n",
    "# #-->find element by link\n",
    "# ele=webD.find_element_by_link('link')\n",
    "\n",
    "# #-->find element by tagname\n",
    "# ele=webD.find_element_by_tag_name('link')\n",
    "\n",
    "# #-->find element by xpath\n",
    "# ele=webD.find_element_by_tag_xpath('xpath')\n",
    "\n",
    "# #-->find element by classname\n",
    "# ele=webD.find_element_by_class_name('classname')\n",
    "\n",
    "# #-->find element by id\n",
    "# ele=webD.find_element_by_id('id')\n"
   ]
  },
  {
   "cell_type": "code",
   "execution_count": 38,
   "id": "a85fcf0c",
   "metadata": {},
   "outputs": [
    {
     "name": "stdout",
     "output_type": "stream",
     "text": [
      "<selenium.webdriver.remote.webelement.WebElement (session=\"15d46d6a8262e1b1a2469ff13e1000c9\", element=\"2BEF287105BDB15D6FEB96CA17BD2AAA_element_29\")>\n"
     ]
    }
   ],
   "source": [
    "ele = webD.find_element(By.CLASS_NAME, \"col-sm-8.h1\")\n",
    "print(ele)"
   ]
  },
  {
   "cell_type": "code",
   "execution_count": 39,
   "id": "9e374539",
   "metadata": {},
   "outputs": [],
   "source": [
    "a=webD.find_element(By.TAG_NAME, 'a')"
   ]
  },
  {
   "cell_type": "code",
   "execution_count": 40,
   "id": "ff4da051",
   "metadata": {},
   "outputs": [
    {
     "name": "stdout",
     "output_type": "stream",
     "text": [
      "Books to Scrape\n"
     ]
    }
   ],
   "source": [
    "print(a.text)"
   ]
  },
  {
   "cell_type": "code",
   "execution_count": 41,
   "id": "1febd2ec",
   "metadata": {},
   "outputs": [],
   "source": [
    "ele = webD.find_element(By.CLASS_NAME, \"side_categories>ul\")"
   ]
  },
  {
   "cell_type": "code",
   "execution_count": 42,
   "id": "659ead4d",
   "metadata": {},
   "outputs": [
    {
     "name": "stdout",
     "output_type": "stream",
     "text": [
      "Books\n",
      "Travel\n",
      "Mystery\n",
      "Historical Fiction\n",
      "Sequential Art\n",
      "Classics\n",
      "Philosophy\n",
      "Romance\n",
      "Womens Fiction\n",
      "Fiction\n",
      "Childrens\n",
      "Religion\n",
      "Nonfiction\n",
      "Music\n",
      "Default\n",
      "Science Fiction\n",
      "Sports and Games\n",
      "Add a comment\n",
      "Fantasy\n",
      "New Adult\n",
      "Young Adult\n",
      "Science\n",
      "Poetry\n",
      "Paranormal\n",
      "Art\n",
      "Psychology\n",
      "Autobiography\n",
      "Parenting\n",
      "Adult Fiction\n",
      "Humor\n",
      "Horror\n",
      "History\n",
      "Food and Drink\n",
      "Christian Fiction\n",
      "Business\n",
      "Biography\n",
      "Thriller\n",
      "Contemporary\n",
      "Spirituality\n",
      "Academic\n",
      "Self Help\n",
      "Historical\n",
      "Christian\n",
      "Suspense\n",
      "Short Stories\n",
      "Novels\n",
      "Health\n",
      "Politics\n",
      "Cultural\n",
      "Erotica\n",
      "Crime\n"
     ]
    }
   ],
   "source": [
    "print(ele.text)"
   ]
  },
  {
   "cell_type": "code",
   "execution_count": 43,
   "id": "dd2065e8",
   "metadata": {},
   "outputs": [],
   "source": [
    "a=ele.find_elements(By.TAG_NAME,'li')"
   ]
  },
  {
   "cell_type": "code",
   "execution_count": 44,
   "id": "6d384b42",
   "metadata": {},
   "outputs": [
    {
     "name": "stdout",
     "output_type": "stream",
     "text": [
      "Books\n",
      "Travel\n",
      "Mystery\n",
      "Historical Fiction\n",
      "Sequential Art\n",
      "Classics\n",
      "Philosophy\n",
      "Romance\n",
      "Womens Fiction\n",
      "Fiction\n",
      "Childrens\n",
      "Religion\n",
      "Nonfiction\n",
      "Music\n",
      "Default\n",
      "Science Fiction\n",
      "Sports and Games\n",
      "Add a comment\n",
      "Fantasy\n",
      "New Adult\n",
      "Young Adult\n",
      "Science\n",
      "Poetry\n",
      "Paranormal\n",
      "Art\n",
      "Psychology\n",
      "Autobiography\n",
      "Parenting\n",
      "Adult Fiction\n",
      "Humor\n",
      "Horror\n",
      "History\n",
      "Food and Drink\n",
      "Christian Fiction\n",
      "Business\n",
      "Biography\n",
      "Thriller\n",
      "Contemporary\n",
      "Spirituality\n",
      "Academic\n",
      "Self Help\n",
      "Historical\n",
      "Christian\n",
      "Suspense\n",
      "Short Stories\n",
      "Novels\n",
      "Health\n",
      "Politics\n",
      "Cultural\n",
      "Erotica\n",
      "Crime\n",
      "Travel\n",
      "Mystery\n",
      "Historical Fiction\n",
      "Sequential Art\n",
      "Classics\n",
      "Philosophy\n",
      "Romance\n",
      "Womens Fiction\n",
      "Fiction\n",
      "Childrens\n",
      "Religion\n",
      "Nonfiction\n",
      "Music\n",
      "Default\n",
      "Science Fiction\n",
      "Sports and Games\n",
      "Add a comment\n",
      "Fantasy\n",
      "New Adult\n",
      "Young Adult\n",
      "Science\n",
      "Poetry\n",
      "Paranormal\n",
      "Art\n",
      "Psychology\n",
      "Autobiography\n",
      "Parenting\n",
      "Adult Fiction\n",
      "Humor\n",
      "Horror\n",
      "History\n",
      "Food and Drink\n",
      "Christian Fiction\n",
      "Business\n",
      "Biography\n",
      "Thriller\n",
      "Contemporary\n",
      "Spirituality\n",
      "Academic\n",
      "Self Help\n",
      "Historical\n",
      "Christian\n",
      "Suspense\n",
      "Short Stories\n",
      "Novels\n",
      "Health\n",
      "Politics\n",
      "Cultural\n",
      "Erotica\n",
      "Crime\n"
     ]
    }
   ],
   "source": [
    "for i in a:\n",
    "    print(i.text)"
   ]
  },
  {
   "cell_type": "code",
   "execution_count": 45,
   "id": "203827dd",
   "metadata": {},
   "outputs": [],
   "source": [
    "xpat = '/html/body/div/div/div/aside/div[2]/ul/li/ul/li[1]/a'\n",
    "ele=webD.find_element(By.XPATH,xpat).click()"
   ]
  },
  {
   "cell_type": "code",
   "execution_count": null,
   "id": "e84a3ef0",
   "metadata": {},
   "outputs": [],
   "source": []
  },
  {
   "cell_type": "code",
   "execution_count": null,
   "id": "070dd54a",
   "metadata": {},
   "outputs": [],
   "source": []
  }
 ],
 "metadata": {
  "kernelspec": {
   "display_name": "Python 3 (ipykernel)",
   "language": "python",
   "name": "python3"
  },
  "language_info": {
   "codemirror_mode": {
    "name": "ipython",
    "version": 3
   },
   "file_extension": ".py",
   "mimetype": "text/x-python",
   "name": "python",
   "nbconvert_exporter": "python",
   "pygments_lexer": "ipython3",
   "version": "3.10.9"
  }
 },
 "nbformat": 4,
 "nbformat_minor": 5
}
